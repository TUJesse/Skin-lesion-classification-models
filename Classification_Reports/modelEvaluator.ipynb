{
 "cells": [
  {
   "cell_type": "code",
   "execution_count": 2,
   "id": "initial_id",
   "metadata": {
    "collapsed": true,
    "ExecuteTime": {
     "end_time": "2024-03-21T12:49:07.511049Z",
     "start_time": "2024-03-21T12:49:04.676334Z"
    }
   },
   "outputs": [
    {
     "name": "stderr",
     "output_type": "stream",
     "text": [
      "2024-03-21 12:49:06.081770: I tensorflow/core/util/port.cc:113] oneDNN custom operations are on. You may see slightly different numerical results due to floating-point round-off errors from different computation orders. To turn them off, set the environment variable `TF_ENABLE_ONEDNN_OPTS=0`.\n",
      "2024-03-21 12:49:06.135785: I tensorflow/core/platform/cpu_feature_guard.cc:210] This TensorFlow binary is optimized to use available CPU instructions in performance-critical operations.\n",
      "To enable the following instructions: AVX2 AVX512F AVX512_VNNI FMA, in other operations, rebuild TensorFlow with the appropriate compiler flags.\n",
      "2024-03-21 12:49:06.949108: W tensorflow/compiler/tf2tensorrt/utils/py_utils.cc:38] TF-TRT Warning: Could not find TensorRT\n"
     ]
    }
   ],
   "source": [
    "import matplotlib.pyplot as plt\n",
    "import numpy\n",
    "import numpy as np\n",
    "import pandas as pd\n",
    "import os\n",
    "from glob import glob\n",
    "#import seaborn as sns\n",
    "from PIL import Image\n",
    "\n",
    "# np.random.seed(42)\n",
    "from sklearn.metrics import confusion_matrix\n",
    "\n",
    "import keras\n",
    "import tensorflow as tf\n",
    "from keras.utils import to_categorical\n",
    "from keras.models import Sequential\n",
    "from keras.layers import Conv2D, MaxPooling2D, Dense, Flatten, Dropout\n",
    "from sklearn.model_selection import train_test_split\n",
    "from sklearn.utils import resample\n",
    "from scipy import stats\n",
    "from sklearn.preprocessing import LabelEncoder\n",
    "from keras.models import load_model\n",
    "from sklearn import svm\n",
    "from sklearn.svm import SVC"
   ]
  },
  {
   "cell_type": "code",
   "outputs": [
    {
     "name": "stdout",
     "output_type": "stream",
     "text": [
      "Collecting tensorflow-gpu\n",
      "  Downloading tensorflow-gpu-2.12.0.tar.gz (2.6 kB)\n",
      "  Preparing metadata (setup.py): started\n",
      "  Preparing metadata (setup.py): finished with status 'error'\n",
      "Error occurred while installing TensorFlow GPU version.\n"
     ]
    },
    {
     "name": "stderr",
     "output_type": "stream",
     "text": [
      "  \u001B[1;31merror\u001B[0m: \u001B[1msubprocess-exited-with-error\u001B[0m\n",
      "  \n",
      "  \u001B[31m×\u001B[0m \u001B[32mpython setup.py egg_info\u001B[0m did not run successfully.\n",
      "  \u001B[31m│\u001B[0m exit code: \u001B[1;36m1\u001B[0m\n",
      "  \u001B[31m╰─>\u001B[0m \u001B[31m[43 lines of output]\u001B[0m\n",
      "  \u001B[31m   \u001B[0m Traceback (most recent call last):\n",
      "  \u001B[31m   \u001B[0m   File \"/home/jesse/PycharmProjects/4thrYearPythonProject/venv/lib/python3.9/site-packages/setuptools/_vendor/packaging/requirements.py\", line 35, in __init__\n",
      "  \u001B[31m   \u001B[0m     parsed = _parse_requirement(requirement_string)\n",
      "  \u001B[31m   \u001B[0m   File \"/home/jesse/PycharmProjects/4thrYearPythonProject/venv/lib/python3.9/site-packages/setuptools/_vendor/packaging/_parser.py\", line 64, in parse_requirement\n",
      "  \u001B[31m   \u001B[0m     return _parse_requirement(Tokenizer(source, rules=DEFAULT_RULES))\n",
      "  \u001B[31m   \u001B[0m   File \"/home/jesse/PycharmProjects/4thrYearPythonProject/venv/lib/python3.9/site-packages/setuptools/_vendor/packaging/_parser.py\", line 82, in _parse_requirement\n",
      "  \u001B[31m   \u001B[0m     url, specifier, marker = _parse_requirement_details(tokenizer)\n",
      "  \u001B[31m   \u001B[0m   File \"/home/jesse/PycharmProjects/4thrYearPythonProject/venv/lib/python3.9/site-packages/setuptools/_vendor/packaging/_parser.py\", line 126, in _parse_requirement_details\n",
      "  \u001B[31m   \u001B[0m     marker = _parse_requirement_marker(\n",
      "  \u001B[31m   \u001B[0m   File \"/home/jesse/PycharmProjects/4thrYearPythonProject/venv/lib/python3.9/site-packages/setuptools/_vendor/packaging/_parser.py\", line 147, in _parse_requirement_marker\n",
      "  \u001B[31m   \u001B[0m     tokenizer.raise_syntax_error(\n",
      "  \u001B[31m   \u001B[0m   File \"/home/jesse/PycharmProjects/4thrYearPythonProject/venv/lib/python3.9/site-packages/setuptools/_vendor/packaging/_tokenizer.py\", line 165, in raise_syntax_error\n",
      "  \u001B[31m   \u001B[0m     raise ParserSyntaxError(\n",
      "  \u001B[31m   \u001B[0m setuptools.extern.packaging._tokenizer.ParserSyntaxError: Expected end or semicolon (after name and no valid version specifier)\n",
      "  \u001B[31m   \u001B[0m     python_version>\"3.7\"\n",
      "  \u001B[31m   \u001B[0m                   ^\n",
      "  \u001B[31m   \u001B[0m \n",
      "  \u001B[31m   \u001B[0m The above exception was the direct cause of the following exception:\n",
      "  \u001B[31m   \u001B[0m \n",
      "  \u001B[31m   \u001B[0m Traceback (most recent call last):\n",
      "  \u001B[31m   \u001B[0m   File \"<string>\", line 2, in <module>\n",
      "  \u001B[31m   \u001B[0m   File \"<pip-setuptools-caller>\", line 34, in <module>\n",
      "  \u001B[31m   \u001B[0m   File \"/tmp/pip-install-f3o4zuri/tensorflow-gpu_9fa582435cc44ce287f235295057e349/setup.py\", line 40, in <module>\n",
      "  \u001B[31m   \u001B[0m     setuptools.setup()\n",
      "  \u001B[31m   \u001B[0m   File \"/home/jesse/PycharmProjects/4thrYearPythonProject/venv/lib/python3.9/site-packages/setuptools/__init__.py\", line 102, in setup\n",
      "  \u001B[31m   \u001B[0m     _install_setup_requires(attrs)\n",
      "  \u001B[31m   \u001B[0m   File \"/home/jesse/PycharmProjects/4thrYearPythonProject/venv/lib/python3.9/site-packages/setuptools/__init__.py\", line 73, in _install_setup_requires\n",
      "  \u001B[31m   \u001B[0m     dist.parse_config_files(ignore_option_errors=True)\n",
      "  \u001B[31m   \u001B[0m   File \"/home/jesse/PycharmProjects/4thrYearPythonProject/venv/lib/python3.9/site-packages/_virtualenv.py\", line 23, in parse_config_files\n",
      "  \u001B[31m   \u001B[0m     result = old_parse_config_files(self, *args, **kwargs)\n",
      "  \u001B[31m   \u001B[0m   File \"/home/jesse/PycharmProjects/4thrYearPythonProject/venv/lib/python3.9/site-packages/setuptools/dist.py\", line 667, in parse_config_files\n",
      "  \u001B[31m   \u001B[0m     self._finalize_requires()\n",
      "  \u001B[31m   \u001B[0m   File \"/home/jesse/PycharmProjects/4thrYearPythonProject/venv/lib/python3.9/site-packages/setuptools/dist.py\", line 396, in _finalize_requires\n",
      "  \u001B[31m   \u001B[0m     self._normalize_requires()\n",
      "  \u001B[31m   \u001B[0m   File \"/home/jesse/PycharmProjects/4thrYearPythonProject/venv/lib/python3.9/site-packages/setuptools/dist.py\", line 410, in _normalize_requires\n",
      "  \u001B[31m   \u001B[0m     meta._normalized_install_requires = {\n",
      "  \u001B[31m   \u001B[0m   File \"/home/jesse/PycharmProjects/4thrYearPythonProject/venv/lib/python3.9/site-packages/setuptools/dist.py\", line 410, in <dictcomp>\n",
      "  \u001B[31m   \u001B[0m     meta._normalized_install_requires = {\n",
      "  \u001B[31m   \u001B[0m   File \"/home/jesse/PycharmProjects/4thrYearPythonProject/venv/lib/python3.9/site-packages/setuptools/_vendor/packaging/requirements.py\", line 37, in __init__\n",
      "  \u001B[31m   \u001B[0m     raise InvalidRequirement(str(e)) from e\n",
      "  \u001B[31m   \u001B[0m setuptools.extern.packaging.requirements.InvalidRequirement: Expected end or semicolon (after name and no valid version specifier)\n",
      "  \u001B[31m   \u001B[0m     python_version>\"3.7\"\n",
      "  \u001B[31m   \u001B[0m                   ^\n",
      "  \u001B[31m   \u001B[0m \u001B[31m[end of output]\u001B[0m\n",
      "  \n",
      "  \u001B[1;35mnote\u001B[0m: This error originates from a subprocess, and is likely not a problem with pip.\n",
      "\u001B[1;31merror\u001B[0m: \u001B[1mmetadata-generation-failed\u001B[0m\n",
      "\n",
      "\u001B[31m×\u001B[0m Encountered error while generating package metadata.\n",
      "\u001B[31m╰─>\u001B[0m See above for output.\n",
      "\n",
      "\u001B[1;35mnote\u001B[0m: This is an issue with the package mentioned above, not pip.\n",
      "\u001B[1;36mhint\u001B[0m: See above for details.\n",
      "\n",
      "\u001B[1m[\u001B[0m\u001B[34;49mnotice\u001B[0m\u001B[1;39;49m]\u001B[0m\u001B[39;49m A new release of pip is available: \u001B[0m\u001B[31;49m23.2.1\u001B[0m\u001B[39;49m -> \u001B[0m\u001B[32;49m24.0\u001B[0m\n",
      "\u001B[1m[\u001B[0m\u001B[34;49mnotice\u001B[0m\u001B[1;39;49m]\u001B[0m\u001B[39;49m To update, run: \u001B[0m\u001B[32;49mpip install --upgrade pip\u001B[0m\n"
     ]
    }
   ],
   "source": [
    "import subprocess\n",
    "\n",
    "# Define the pip command to install TensorFlow GPU version\n",
    "pip_command = \"pip install tensorflow-gpu\"\n",
    "\n",
    "# Execute the pip command using subprocess\n",
    "try:\n",
    "    subprocess.check_call(pip_command.split())\n",
    "    print(\"TensorFlow GPU version installed successfully.\")\n",
    "except subprocess.CalledProcessError:\n",
    "    print(\"Error occurred while installing TensorFlow GPU version.\")\n"
   ],
   "metadata": {
    "collapsed": false,
    "ExecuteTime": {
     "end_time": "2024-03-21T12:42:54.980379Z",
     "start_time": "2024-03-21T12:42:53.770704Z"
    }
   },
   "id": "f860b77d2b9df513",
   "execution_count": 1
  },
  {
   "cell_type": "code",
   "execution_count": 5,
   "outputs": [
    {
     "name": "stdout",
     "output_type": "stream",
     "text": [
      "3.1.1\n"
     ]
    }
   ],
   "source": [
    "print(keras.__version__)"
   ],
   "metadata": {
    "collapsed": false,
    "ExecuteTime": {
     "end_time": "2024-03-21T13:06:48.661073Z",
     "start_time": "2024-03-21T13:06:48.652054Z"
    }
   },
   "id": "98528f1803f30c6e"
  },
  {
   "cell_type": "code",
   "outputs": [],
   "source": [
    "from keras import backend as K"
   ],
   "metadata": {
    "collapsed": false,
    "ExecuteTime": {
     "end_time": "2024-03-21T13:09:47.043836Z",
     "start_time": "2024-03-21T13:09:47.035666Z"
    }
   },
   "id": "487c3a075538875a",
   "execution_count": 7
  },
  {
   "cell_type": "code",
   "outputs": [
    {
     "ename": "AttributeError",
     "evalue": "module 'keras.backend' has no attribute 'set_session'",
     "output_type": "error",
     "traceback": [
      "\u001B[0;31m---------------------------------------------------------------------------\u001B[0m",
      "\u001B[0;31mAttributeError\u001B[0m                            Traceback (most recent call last)",
      "Cell \u001B[0;32mIn[10], line 7\u001B[0m\n\u001B[1;32m      4\u001B[0m sess \u001B[38;5;241m=\u001B[39m tf\u001B[38;5;241m.\u001B[39mcompat\u001B[38;5;241m.\u001B[39mv1\u001B[38;5;241m.\u001B[39mSession()\n\u001B[1;32m      6\u001B[0m \u001B[38;5;66;03m# Set the session config\u001B[39;00m\n\u001B[0;32m----> 7\u001B[0m \u001B[43mK\u001B[49m\u001B[38;5;241;43m.\u001B[39;49m\u001B[43mset_session\u001B[49m(sess)\n",
      "\u001B[0;31mAttributeError\u001B[0m: module 'keras.backend' has no attribute 'set_session'"
     ]
    }
   ],
   "source": [
    "# Create a TensorFlow session config\n",
    "config = tf.compat.v1.ConfigProto()\n",
    "config.gpu_options.allow_growth = True  # Allow GPU memory allocation to grow dynamically\n",
    "sess = tf.compat.v1.Session()\n",
    "\n",
    "# Set the session config\n",
    "K.set_session(sess)"
   ],
   "metadata": {
    "collapsed": false,
    "ExecuteTime": {
     "end_time": "2024-03-21T13:15:35.238432Z",
     "start_time": "2024-03-21T13:15:35.211945Z"
    }
   },
   "id": "d0a5c3ccdd90d0c5",
   "execution_count": 10
  },
  {
   "cell_type": "code",
   "outputs": [
    {
     "name": "stdout",
     "output_type": "stream",
     "text": [
      "Num GPUs Available:  0\n"
     ]
    }
   ],
   "source": [
    "#import tensorflow as tf\n",
    "print(\"Num GPUs Available: \", len(tf.config.list_physical_devices('GPU')))"
   ],
   "metadata": {
    "collapsed": false,
    "ExecuteTime": {
     "end_time": "2024-03-21T12:49:24.177351Z",
     "start_time": "2024-03-21T12:49:24.170375Z"
    }
   },
   "id": "a408d576c5fd085e",
   "execution_count": 3
  },
  {
   "cell_type": "code",
   "execution_count": 79,
   "outputs": [
    {
     "name": "stderr",
     "output_type": "stream",
     "text": [
      "/home/jesse/PycharmProjects/4thrYearPythonProject/venv/lib/python3.9/site-packages/keras/src/saving/saving_lib.py:396: UserWarning: Skipping variable loading for optimizer 'adam', because it has 1210 variables whereas the saved optimizer has 6 variables. \n",
      "  trackable.load_own_variables(weights_store.get(inner_path))\n"
     ]
    }
   ],
   "source": [
    "model = keras.saving.load_model(os.path.join('models', 'Densenetmodel50epochs1500resample224size.keras'))"
   ],
   "metadata": {
    "collapsed": false,
    "ExecuteTime": {
     "end_time": "2024-03-21T14:58:57.127574Z",
     "start_time": "2024-03-21T14:58:33.568384Z"
    }
   },
   "id": "97d79d6b8a607e93"
  },
  {
   "cell_type": "code",
   "execution_count": 66,
   "outputs": [],
   "source": [
    "trainedModel = keras.saving.load_model(os.path.join('models', 'SequentialRelu50epochs1500resample64size.keras'))"
   ],
   "metadata": {
    "collapsed": false,
    "ExecuteTime": {
     "end_time": "2024-03-09T11:58:34.624722100Z",
     "start_time": "2024-03-09T11:58:34.294302800Z"
    }
   },
   "id": "c000f20b3d8b5d67"
  },
  {
   "cell_type": "code",
   "execution_count": 80,
   "outputs": [],
   "source": [
    "dataset = pd.read_csv('HAM10000_metadata.csv')\n",
    "SIZE = 224"
   ],
   "metadata": {
    "collapsed": false,
    "ExecuteTime": {
     "end_time": "2024-03-21T14:58:57.150580Z",
     "start_time": "2024-03-21T14:58:57.131402Z"
    }
   },
   "id": "c08e5076d355aa07"
  },
  {
   "cell_type": "code",
   "execution_count": 81,
   "outputs": [
    {
     "data": {
      "text/plain": "        lesion_id      image_id   dx    dx_type   age     sex  \\\n3117  HAM_0006863  ISIC_0030907   nv  follow_up  45.0  female   \n7502  HAM_0001358  ISIC_0032680   nv      histo  50.0  female   \n1120  HAM_0003555  ISIC_0030321   df      histo  30.0    male   \n5310  HAM_0004119  ISIC_0025015   nv  follow_up  40.0  female   \n1607  HAM_0005303  ISIC_0033240  mel      histo  70.0    male   \n1263  HAM_0007390  ISIC_0027174  mel      histo  50.0    male   \n2171  HAM_0002197  ISIC_0028709  mel      histo  50.0    male   \n6916  HAM_0002715  ISIC_0028373   nv      histo  70.0    male   \n8534  HAM_0000971  ISIC_0027671   nv      histo  25.0  female   \n6561  HAM_0002929  ISIC_0032068   nv  follow_up  45.0    male   \n\n         localization  label  \n3117          abdomen      5  \n7502             back      5  \n1120  upper extremity      3  \n5310            trunk      5  \n1607            scalp      4  \n1263          abdomen      4  \n2171             back      4  \n6916             back      5  \n8534          unknown      5  \n6561  lower extremity      5  ",
      "text/html": "<div>\n<style scoped>\n    .dataframe tbody tr th:only-of-type {\n        vertical-align: middle;\n    }\n\n    .dataframe tbody tr th {\n        vertical-align: top;\n    }\n\n    .dataframe thead th {\n        text-align: right;\n    }\n</style>\n<table border=\"1\" class=\"dataframe\">\n  <thead>\n    <tr style=\"text-align: right;\">\n      <th></th>\n      <th>lesion_id</th>\n      <th>image_id</th>\n      <th>dx</th>\n      <th>dx_type</th>\n      <th>age</th>\n      <th>sex</th>\n      <th>localization</th>\n      <th>label</th>\n    </tr>\n  </thead>\n  <tbody>\n    <tr>\n      <th>3117</th>\n      <td>HAM_0006863</td>\n      <td>ISIC_0030907</td>\n      <td>nv</td>\n      <td>follow_up</td>\n      <td>45.0</td>\n      <td>female</td>\n      <td>abdomen</td>\n      <td>5</td>\n    </tr>\n    <tr>\n      <th>7502</th>\n      <td>HAM_0001358</td>\n      <td>ISIC_0032680</td>\n      <td>nv</td>\n      <td>histo</td>\n      <td>50.0</td>\n      <td>female</td>\n      <td>back</td>\n      <td>5</td>\n    </tr>\n    <tr>\n      <th>1120</th>\n      <td>HAM_0003555</td>\n      <td>ISIC_0030321</td>\n      <td>df</td>\n      <td>histo</td>\n      <td>30.0</td>\n      <td>male</td>\n      <td>upper extremity</td>\n      <td>3</td>\n    </tr>\n    <tr>\n      <th>5310</th>\n      <td>HAM_0004119</td>\n      <td>ISIC_0025015</td>\n      <td>nv</td>\n      <td>follow_up</td>\n      <td>40.0</td>\n      <td>female</td>\n      <td>trunk</td>\n      <td>5</td>\n    </tr>\n    <tr>\n      <th>1607</th>\n      <td>HAM_0005303</td>\n      <td>ISIC_0033240</td>\n      <td>mel</td>\n      <td>histo</td>\n      <td>70.0</td>\n      <td>male</td>\n      <td>scalp</td>\n      <td>4</td>\n    </tr>\n    <tr>\n      <th>1263</th>\n      <td>HAM_0007390</td>\n      <td>ISIC_0027174</td>\n      <td>mel</td>\n      <td>histo</td>\n      <td>50.0</td>\n      <td>male</td>\n      <td>abdomen</td>\n      <td>4</td>\n    </tr>\n    <tr>\n      <th>2171</th>\n      <td>HAM_0002197</td>\n      <td>ISIC_0028709</td>\n      <td>mel</td>\n      <td>histo</td>\n      <td>50.0</td>\n      <td>male</td>\n      <td>back</td>\n      <td>4</td>\n    </tr>\n    <tr>\n      <th>6916</th>\n      <td>HAM_0002715</td>\n      <td>ISIC_0028373</td>\n      <td>nv</td>\n      <td>histo</td>\n      <td>70.0</td>\n      <td>male</td>\n      <td>back</td>\n      <td>5</td>\n    </tr>\n    <tr>\n      <th>8534</th>\n      <td>HAM_0000971</td>\n      <td>ISIC_0027671</td>\n      <td>nv</td>\n      <td>histo</td>\n      <td>25.0</td>\n      <td>female</td>\n      <td>unknown</td>\n      <td>5</td>\n    </tr>\n    <tr>\n      <th>6561</th>\n      <td>HAM_0002929</td>\n      <td>ISIC_0032068</td>\n      <td>nv</td>\n      <td>follow_up</td>\n      <td>45.0</td>\n      <td>male</td>\n      <td>lower extremity</td>\n      <td>5</td>\n    </tr>\n  </tbody>\n</table>\n</div>"
     },
     "execution_count": 81,
     "metadata": {},
     "output_type": "execute_result"
    }
   ],
   "source": [
    "labEnc = LabelEncoder()\n",
    "labEnc.fit(dataset['dx'])\n",
    "LabelEncoder()\n",
    "\n",
    "dataset['label'] = labEnc.transform(dataset[\"dx\"])\n",
    "dataset.sample(10)"
   ],
   "metadata": {
    "collapsed": false,
    "ExecuteTime": {
     "end_time": "2024-03-21T14:59:05.464391Z",
     "start_time": "2024-03-21T14:59:05.437454Z"
    }
   },
   "id": "25ed5cef7d6d8c06"
  },
  {
   "cell_type": "code",
   "execution_count": 82,
   "outputs": [
    {
     "data": {
      "text/plain": "label\n0    1500\n1    1500\n2    1500\n3    1500\n4    1500\n5    1500\n6    1500\nName: count, dtype: int64"
     },
     "execution_count": 82,
     "metadata": {},
     "output_type": "execute_result"
    }
   ],
   "source": [
    "# Dataset is imbalanced, resample the classes to remove the imbalance\n",
    "ds_0 = dataset[dataset['label'] == 0]\n",
    "ds_1 = dataset[dataset['label'] == 1]\n",
    "ds_2 = dataset[dataset['label'] == 2]\n",
    "ds_3 = dataset[dataset['label'] == 3]\n",
    "ds_4 = dataset[dataset['label'] == 4]\n",
    "ds_5 = dataset[dataset['label'] == 5]\n",
    "ds_6 = dataset[dataset['label'] == 6]\n",
    "\n",
    "sample_num = 1500\n",
    "ds_0_balanced = resample(ds_0, replace=True, n_samples=sample_num, random_state=42)\n",
    "ds_1_balanced = resample(ds_1, replace=True, n_samples=sample_num, random_state=42)\n",
    "ds_2_balanced = resample(ds_2, replace=True, n_samples=sample_num, random_state=42)\n",
    "ds_3_balanced = resample(ds_3, replace=True, n_samples=sample_num, random_state=42)\n",
    "ds_4_balanced = resample(ds_4, replace=True, n_samples=sample_num, random_state=42)\n",
    "ds_5_balanced = resample(ds_5, replace=True, n_samples=sample_num, random_state=42)\n",
    "ds_6_balanced = resample(ds_6, replace=True, n_samples=sample_num, random_state=42)\n",
    "\n",
    "# Combine the datasets together\n",
    "dataset_balanced = pd.concat(\n",
    "    [ds_0_balanced, ds_1_balanced, ds_2_balanced, ds_3_balanced, ds_4_balanced, ds_5_balanced, ds_6_balanced])\n",
    "# Check new distribution\n",
    "dataset_balanced['label'].value_counts()"
   ],
   "metadata": {
    "collapsed": false,
    "ExecuteTime": {
     "end_time": "2024-03-21T14:59:11.243583Z",
     "start_time": "2024-03-21T14:59:11.182766Z"
    }
   },
   "id": "53e90704ee8c3b5f"
  },
  {
   "cell_type": "code",
   "execution_count": 83,
   "outputs": [],
   "source": [
    "# Read images based on the image ID from the csv file\n",
    "image_path = {os.path.splitext(os.path.basename(x))[0]: x\n",
    "    for x in glob(os.path.join('all_images/', '*.jpg'))}"
   ],
   "metadata": {
    "collapsed": false,
    "ExecuteTime": {
     "end_time": "2024-03-21T14:59:14.246978Z",
     "start_time": "2024-03-21T14:59:14.175529Z"
    }
   },
   "id": "ea2a233bb2934fd3"
  },
  {
   "cell_type": "code",
   "execution_count": 84,
   "outputs": [
    {
     "ename": "KeyboardInterrupt",
     "evalue": "",
     "output_type": "error",
     "traceback": [
      "\u001B[0;31m---------------------------------------------------------------------------\u001B[0m",
      "\u001B[0;31mKeyboardInterrupt\u001B[0m                         Traceback (most recent call last)",
      "Cell \u001B[0;32mIn[84], line 5\u001B[0m\n\u001B[1;32m      2\u001B[0m dataset_balanced[\u001B[38;5;124m'\u001B[39m\u001B[38;5;124mpath\u001B[39m\u001B[38;5;124m'\u001B[39m] \u001B[38;5;241m=\u001B[39m dataset[\u001B[38;5;124m'\u001B[39m\u001B[38;5;124mimage_id\u001B[39m\u001B[38;5;124m'\u001B[39m]\u001B[38;5;241m.\u001B[39mmap(image_path\u001B[38;5;241m.\u001B[39mget)\n\u001B[1;32m      4\u001B[0m \u001B[38;5;66;03m#use the path to read images, then convert them to 224,224 then add them to a new column called image\u001B[39;00m\n\u001B[0;32m----> 5\u001B[0m dataset_balanced[\u001B[38;5;124m'\u001B[39m\u001B[38;5;124mimage\u001B[39m\u001B[38;5;124m'\u001B[39m] \u001B[38;5;241m=\u001B[39m \u001B[43mdataset_balanced\u001B[49m\u001B[43m[\u001B[49m\u001B[38;5;124;43m'\u001B[39;49m\u001B[38;5;124;43mpath\u001B[39;49m\u001B[38;5;124;43m'\u001B[39;49m\u001B[43m]\u001B[49m\u001B[38;5;241;43m.\u001B[39;49m\u001B[43mmap\u001B[49m\u001B[43m(\u001B[49m\u001B[38;5;28;43;01mlambda\u001B[39;49;00m\u001B[43m \u001B[49m\u001B[43mx\u001B[49m\u001B[43m:\u001B[49m\u001B[43m \u001B[49m\u001B[43mnp\u001B[49m\u001B[38;5;241;43m.\u001B[39;49m\u001B[43masarray\u001B[49m\u001B[43m(\u001B[49m\u001B[43mImage\u001B[49m\u001B[38;5;241;43m.\u001B[39;49m\u001B[43mopen\u001B[49m\u001B[43m(\u001B[49m\u001B[43mx\u001B[49m\u001B[43m)\u001B[49m\u001B[38;5;241;43m.\u001B[39;49m\u001B[43mresize\u001B[49m\u001B[43m(\u001B[49m\u001B[43m(\u001B[49m\u001B[43mSIZE\u001B[49m\u001B[43m,\u001B[49m\u001B[43mSIZE\u001B[49m\u001B[43m)\u001B[49m\u001B[43m)\u001B[49m\u001B[43m)\u001B[49m\u001B[43m)\u001B[49m\n",
      "File \u001B[0;32m~/PycharmProjects/4thrYearPythonProject/venv/lib64/python3.9/site-packages/pandas/core/series.py:4691\u001B[0m, in \u001B[0;36mSeries.map\u001B[0;34m(self, arg, na_action)\u001B[0m\n\u001B[1;32m   4611\u001B[0m \u001B[38;5;28;01mdef\u001B[39;00m \u001B[38;5;21mmap\u001B[39m(\n\u001B[1;32m   4612\u001B[0m     \u001B[38;5;28mself\u001B[39m,\n\u001B[1;32m   4613\u001B[0m     arg: Callable \u001B[38;5;241m|\u001B[39m Mapping \u001B[38;5;241m|\u001B[39m Series,\n\u001B[1;32m   4614\u001B[0m     na_action: Literal[\u001B[38;5;124m\"\u001B[39m\u001B[38;5;124mignore\u001B[39m\u001B[38;5;124m\"\u001B[39m] \u001B[38;5;241m|\u001B[39m \u001B[38;5;28;01mNone\u001B[39;00m \u001B[38;5;241m=\u001B[39m \u001B[38;5;28;01mNone\u001B[39;00m,\n\u001B[1;32m   4615\u001B[0m ) \u001B[38;5;241m-\u001B[39m\u001B[38;5;241m>\u001B[39m Series:\n\u001B[1;32m   4616\u001B[0m \u001B[38;5;250m    \u001B[39m\u001B[38;5;124;03m\"\"\"\u001B[39;00m\n\u001B[1;32m   4617\u001B[0m \u001B[38;5;124;03m    Map values of Series according to an input mapping or function.\u001B[39;00m\n\u001B[1;32m   4618\u001B[0m \n\u001B[0;32m   (...)\u001B[0m\n\u001B[1;32m   4689\u001B[0m \u001B[38;5;124;03m    dtype: object\u001B[39;00m\n\u001B[1;32m   4690\u001B[0m \u001B[38;5;124;03m    \"\"\"\u001B[39;00m\n\u001B[0;32m-> 4691\u001B[0m     new_values \u001B[38;5;241m=\u001B[39m \u001B[38;5;28;43mself\u001B[39;49m\u001B[38;5;241;43m.\u001B[39;49m\u001B[43m_map_values\u001B[49m\u001B[43m(\u001B[49m\u001B[43marg\u001B[49m\u001B[43m,\u001B[49m\u001B[43m \u001B[49m\u001B[43mna_action\u001B[49m\u001B[38;5;241;43m=\u001B[39;49m\u001B[43mna_action\u001B[49m\u001B[43m)\u001B[49m\n\u001B[1;32m   4692\u001B[0m     \u001B[38;5;28;01mreturn\u001B[39;00m \u001B[38;5;28mself\u001B[39m\u001B[38;5;241m.\u001B[39m_constructor(new_values, index\u001B[38;5;241m=\u001B[39m\u001B[38;5;28mself\u001B[39m\u001B[38;5;241m.\u001B[39mindex, copy\u001B[38;5;241m=\u001B[39m\u001B[38;5;28;01mFalse\u001B[39;00m)\u001B[38;5;241m.\u001B[39m__finalize__(\n\u001B[1;32m   4693\u001B[0m         \u001B[38;5;28mself\u001B[39m, method\u001B[38;5;241m=\u001B[39m\u001B[38;5;124m\"\u001B[39m\u001B[38;5;124mmap\u001B[39m\u001B[38;5;124m\"\u001B[39m\n\u001B[1;32m   4694\u001B[0m     )\n",
      "File \u001B[0;32m~/PycharmProjects/4thrYearPythonProject/venv/lib64/python3.9/site-packages/pandas/core/base.py:921\u001B[0m, in \u001B[0;36mIndexOpsMixin._map_values\u001B[0;34m(self, mapper, na_action, convert)\u001B[0m\n\u001B[1;32m    918\u001B[0m \u001B[38;5;28;01mif\u001B[39;00m \u001B[38;5;28misinstance\u001B[39m(arr, ExtensionArray):\n\u001B[1;32m    919\u001B[0m     \u001B[38;5;28;01mreturn\u001B[39;00m arr\u001B[38;5;241m.\u001B[39mmap(mapper, na_action\u001B[38;5;241m=\u001B[39mna_action)\n\u001B[0;32m--> 921\u001B[0m \u001B[38;5;28;01mreturn\u001B[39;00m \u001B[43malgorithms\u001B[49m\u001B[38;5;241;43m.\u001B[39;49m\u001B[43mmap_array\u001B[49m\u001B[43m(\u001B[49m\u001B[43marr\u001B[49m\u001B[43m,\u001B[49m\u001B[43m \u001B[49m\u001B[43mmapper\u001B[49m\u001B[43m,\u001B[49m\u001B[43m \u001B[49m\u001B[43mna_action\u001B[49m\u001B[38;5;241;43m=\u001B[39;49m\u001B[43mna_action\u001B[49m\u001B[43m,\u001B[49m\u001B[43m \u001B[49m\u001B[43mconvert\u001B[49m\u001B[38;5;241;43m=\u001B[39;49m\u001B[43mconvert\u001B[49m\u001B[43m)\u001B[49m\n",
      "File \u001B[0;32m~/PycharmProjects/4thrYearPythonProject/venv/lib64/python3.9/site-packages/pandas/core/algorithms.py:1743\u001B[0m, in \u001B[0;36mmap_array\u001B[0;34m(arr, mapper, na_action, convert)\u001B[0m\n\u001B[1;32m   1741\u001B[0m values \u001B[38;5;241m=\u001B[39m arr\u001B[38;5;241m.\u001B[39mastype(\u001B[38;5;28mobject\u001B[39m, copy\u001B[38;5;241m=\u001B[39m\u001B[38;5;28;01mFalse\u001B[39;00m)\n\u001B[1;32m   1742\u001B[0m \u001B[38;5;28;01mif\u001B[39;00m na_action \u001B[38;5;129;01mis\u001B[39;00m \u001B[38;5;28;01mNone\u001B[39;00m:\n\u001B[0;32m-> 1743\u001B[0m     \u001B[38;5;28;01mreturn\u001B[39;00m \u001B[43mlib\u001B[49m\u001B[38;5;241;43m.\u001B[39;49m\u001B[43mmap_infer\u001B[49m\u001B[43m(\u001B[49m\u001B[43mvalues\u001B[49m\u001B[43m,\u001B[49m\u001B[43m \u001B[49m\u001B[43mmapper\u001B[49m\u001B[43m,\u001B[49m\u001B[43m \u001B[49m\u001B[43mconvert\u001B[49m\u001B[38;5;241;43m=\u001B[39;49m\u001B[43mconvert\u001B[49m\u001B[43m)\u001B[49m\n\u001B[1;32m   1744\u001B[0m \u001B[38;5;28;01melse\u001B[39;00m:\n\u001B[1;32m   1745\u001B[0m     \u001B[38;5;28;01mreturn\u001B[39;00m lib\u001B[38;5;241m.\u001B[39mmap_infer_mask(\n\u001B[1;32m   1746\u001B[0m         values, mapper, mask\u001B[38;5;241m=\u001B[39misna(values)\u001B[38;5;241m.\u001B[39mview(np\u001B[38;5;241m.\u001B[39muint8), convert\u001B[38;5;241m=\u001B[39mconvert\n\u001B[1;32m   1747\u001B[0m     )\n",
      "File \u001B[0;32mlib.pyx:2972\u001B[0m, in \u001B[0;36mpandas._libs.lib.map_infer\u001B[0;34m()\u001B[0m\n",
      "Cell \u001B[0;32mIn[84], line 5\u001B[0m, in \u001B[0;36m<lambda>\u001B[0;34m(x)\u001B[0m\n\u001B[1;32m      2\u001B[0m dataset_balanced[\u001B[38;5;124m'\u001B[39m\u001B[38;5;124mpath\u001B[39m\u001B[38;5;124m'\u001B[39m] \u001B[38;5;241m=\u001B[39m dataset[\u001B[38;5;124m'\u001B[39m\u001B[38;5;124mimage_id\u001B[39m\u001B[38;5;124m'\u001B[39m]\u001B[38;5;241m.\u001B[39mmap(image_path\u001B[38;5;241m.\u001B[39mget)\n\u001B[1;32m      4\u001B[0m \u001B[38;5;66;03m#use the path to read images, then convert them to 224,224 then add them to a new column called image\u001B[39;00m\n\u001B[0;32m----> 5\u001B[0m dataset_balanced[\u001B[38;5;124m'\u001B[39m\u001B[38;5;124mimage\u001B[39m\u001B[38;5;124m'\u001B[39m] \u001B[38;5;241m=\u001B[39m dataset_balanced[\u001B[38;5;124m'\u001B[39m\u001B[38;5;124mpath\u001B[39m\u001B[38;5;124m'\u001B[39m]\u001B[38;5;241m.\u001B[39mmap(\u001B[38;5;28;01mlambda\u001B[39;00m x: np\u001B[38;5;241m.\u001B[39masarray(\u001B[43mImage\u001B[49m\u001B[38;5;241;43m.\u001B[39;49m\u001B[43mopen\u001B[49m\u001B[43m(\u001B[49m\u001B[43mx\u001B[49m\u001B[43m)\u001B[49m\u001B[38;5;241;43m.\u001B[39;49m\u001B[43mresize\u001B[49m\u001B[43m(\u001B[49m\u001B[43m(\u001B[49m\u001B[43mSIZE\u001B[49m\u001B[43m,\u001B[49m\u001B[43mSIZE\u001B[49m\u001B[43m)\u001B[49m\u001B[43m)\u001B[49m))\n",
      "File \u001B[0;32m~/PycharmProjects/4thrYearPythonProject/venv/lib64/python3.9/site-packages/PIL/Image.py:2200\u001B[0m, in \u001B[0;36mImage.resize\u001B[0;34m(self, size, resample, box, reducing_gap)\u001B[0m\n\u001B[1;32m   2192\u001B[0m             \u001B[38;5;28mself\u001B[39m \u001B[38;5;241m=\u001B[39m Image\u001B[38;5;241m.\u001B[39mreduce(\u001B[38;5;28mself\u001B[39m, factor, box\u001B[38;5;241m=\u001B[39mreduce_box)\n\u001B[1;32m   2193\u001B[0m         box \u001B[38;5;241m=\u001B[39m (\n\u001B[1;32m   2194\u001B[0m             (box[\u001B[38;5;241m0\u001B[39m] \u001B[38;5;241m-\u001B[39m reduce_box[\u001B[38;5;241m0\u001B[39m]) \u001B[38;5;241m/\u001B[39m factor_x,\n\u001B[1;32m   2195\u001B[0m             (box[\u001B[38;5;241m1\u001B[39m] \u001B[38;5;241m-\u001B[39m reduce_box[\u001B[38;5;241m1\u001B[39m]) \u001B[38;5;241m/\u001B[39m factor_y,\n\u001B[1;32m   2196\u001B[0m             (box[\u001B[38;5;241m2\u001B[39m] \u001B[38;5;241m-\u001B[39m reduce_box[\u001B[38;5;241m0\u001B[39m]) \u001B[38;5;241m/\u001B[39m factor_x,\n\u001B[1;32m   2197\u001B[0m             (box[\u001B[38;5;241m3\u001B[39m] \u001B[38;5;241m-\u001B[39m reduce_box[\u001B[38;5;241m1\u001B[39m]) \u001B[38;5;241m/\u001B[39m factor_y,\n\u001B[1;32m   2198\u001B[0m         )\n\u001B[0;32m-> 2200\u001B[0m \u001B[38;5;28;01mreturn\u001B[39;00m \u001B[38;5;28mself\u001B[39m\u001B[38;5;241m.\u001B[39m_new(\u001B[38;5;28;43mself\u001B[39;49m\u001B[38;5;241;43m.\u001B[39;49m\u001B[43mim\u001B[49m\u001B[38;5;241;43m.\u001B[39;49m\u001B[43mresize\u001B[49m\u001B[43m(\u001B[49m\u001B[43msize\u001B[49m\u001B[43m,\u001B[49m\u001B[43m \u001B[49m\u001B[43mresample\u001B[49m\u001B[43m,\u001B[49m\u001B[43m \u001B[49m\u001B[43mbox\u001B[49m\u001B[43m)\u001B[49m)\n",
      "\u001B[0;31mKeyboardInterrupt\u001B[0m: "
     ]
    }
   ],
   "source": [
    "# Define the path and add as a new column\n",
    "dataset_balanced['path'] = dataset['image_id'].map(image_path.get)\n",
    "\n",
    "#use the path to read images, then convert them to 224,224 then add them to a new column called image\n",
    "dataset_balanced['image'] = dataset_balanced['path'].map(lambda x: np.asarray(Image.open(x).resize((SIZE,SIZE))))"
   ],
   "metadata": {
    "collapsed": false,
    "ExecuteTime": {
     "end_time": "2024-03-21T14:59:35.552160Z",
     "start_time": "2024-03-21T14:59:27.805003Z"
    }
   },
   "id": "8b08cadaf0804311"
  },
  {
   "cell_type": "code",
   "outputs": [],
   "source": [
    "# Define the maximum rotation angle\n",
    "max_rotation_angle = 359  # You can adjust this as needed\n",
    "\n",
    "# Define a function to perform random rotation\n",
    "def random_rotate(image):\n",
    "    rotation_angle = np.random.uniform(-max_rotation_angle, max_rotation_angle)\n",
    "    return image.rotate(rotation_angle)\n",
    "\n",
    "# Define the path and add as a new column\n",
    "dataset_balanced['path'] = dataset['image_id'].map(image_path.get)\n",
    "\n",
    "# Use the path to read images, then convert them to 224x224, apply random rotations, and add them to a new column called 'image'\n",
    "#SIZE = (224, 224)\n",
    "dataset_balanced['image'] = dataset_balanced['path'].map(lambda x: random_rotate(Image.open(x).resize((SIZE,SIZE))))\n",
    "\n",
    "# Convert images to NumPy arrays\n",
    "dataset_balanced['image'] = dataset_balanced['image'].map(np.asarray)"
   ],
   "metadata": {
    "collapsed": false,
    "ExecuteTime": {
     "end_time": "2024-03-21T15:01:00.309478Z",
     "start_time": "2024-03-21T14:59:43.536020Z"
    }
   },
   "id": "9a4ade538f008f7e",
   "execution_count": 85
  },
  {
   "cell_type": "code",
   "execution_count": 19,
   "outputs": [],
   "source": [
    "# Concert dataframe image attributes into a numpy array\n",
    "X = np.asarray(dataset_balanced['image'].tolist())\n",
    "# Scale values between 0-1 by dividing by the highest possible value (255)\n",
    "X = X/255\n",
    "# assign label values (what we are trying to predict) to Y, label is used instead of dx because label is an integer and the computer won't understand dx\n",
    "Y = dataset_balanced['label']\n",
    "# Convert to categorical as this is multiclass classification\n",
    "Y_cat = to_categorical(Y,num_classes = 7)\n",
    "# make training and testing partitions\n",
    "# x_train, x_test, y_train, y_test = train_test_split(X, Y_cat, test_size=0.25, random_state=42)"
   ],
   "metadata": {
    "collapsed": false,
    "ExecuteTime": {
     "end_time": "2024-03-21T13:40:18.239218Z",
     "start_time": "2024-03-21T13:40:13.900705Z"
    }
   },
   "id": "5e4609fac75d1a53"
  },
  {
   "cell_type": "code",
   "execution_count": 86,
   "outputs": [],
   "source": [
    "# Define the path and add as a new column\n",
    "dataset['path'] = dataset['image_id'].map(image_path.get)\n",
    "\n",
    "#use the path to read images, then convert them to 224,224 then add them to a new column called image\n",
    "dataset['image'] = dataset['path'].map(lambda x: np.asarray(Image.open(x).resize((SIZE,SIZE))))"
   ],
   "metadata": {
    "collapsed": false,
    "ExecuteTime": {
     "end_time": "2024-03-21T15:02:11.173603Z",
     "start_time": "2024-03-21T15:01:00.314528Z"
    }
   },
   "id": "d6698bdda0e3b576"
  },
  {
   "cell_type": "code",
   "execution_count": 87,
   "outputs": [],
   "source": [
    "# Concert dataframe image attributes into a numpy array\n",
    "X_Balanced = np.asarray(dataset_balanced['image'].tolist())\n",
    "# Scale values between 0-1 by dividing by the highest possible value (255)\n",
    "X_Balanced = X_Balanced/255\n",
    "# assign label values (what we are trying to predict) to Y, label is used instead of dx because label is an integer and the computer won't understand dx\n",
    "Y_Balanced = dataset_balanced['label']\n",
    "# Convert to categorical as this is multiclass classification\n",
    "Y_Balanced_cat = to_categorical(Y_Balanced,num_classes = 7)\n",
    "# make training and testing partitions\n",
    "# x_train, x_test, y_train, y_test = train_test_split(X, Y_cat, test_size=0.25, random_state=42)"
   ],
   "metadata": {
    "collapsed": false,
    "ExecuteTime": {
     "end_time": "2024-03-21T15:02:15.736755Z",
     "start_time": "2024-03-21T15:02:11.175208Z"
    }
   },
   "id": "f54173bb45812e99"
  },
  {
   "cell_type": "code",
   "outputs": [],
   "source": [
    "#Concert dataframe image attributes into a numpy array\n",
    "XF = np.asarray(dataset['image'].tolist())\n",
    "# Scale values between 0-1 by dividing by the highest possible value (255)\n",
    "XF = XF/255\n",
    "# assign label values (what we are trying to predict) to Y, label is used instead of dx because label is an integer and the computer won't understand dx\n",
    "YF = dataset['label']\n",
    "# Convert to categorical as this is multiclass classification\n",
    "YF_cat = to_categorical(YF,num_classes = 7)\n",
    "# make training and testing partitions\n",
    "x_train, x_test, y_train, y_test = train_test_split(X, Y_cat, test_size=0.90, random_state=42)"
   ],
   "metadata": {
    "collapsed": false,
    "ExecuteTime": {
     "end_time": "2024-03-21T15:02:23.480285Z",
     "start_time": "2024-03-21T15:02:15.739844Z"
    }
   },
   "id": "45bf84c4ccfecaa7",
   "execution_count": 88
  },
  {
   "cell_type": "code",
   "execution_count": 90,
   "outputs": [
    {
     "name": "stdout",
     "output_type": "stream",
     "text": [
      "\u001B[1m313/313\u001B[0m \u001B[32m━━━━━━━━━━━━━━━━━━━━\u001B[0m\u001B[37m\u001B[0m \u001B[1m486s\u001B[0m 2s/step\n"
     ]
    }
   ],
   "source": [
    "yf_pred = model.predict(XF)"
   ],
   "metadata": {
    "collapsed": false,
    "ExecuteTime": {
     "end_time": "2024-03-21T15:10:34.648454Z",
     "start_time": "2024-03-21T15:02:23.492458Z"
    }
   },
   "id": "b2964764d9301c27"
  },
  {
   "cell_type": "code",
   "outputs": [
    {
     "name": "stdout",
     "output_type": "stream",
     "text": [
      "\u001B[1m329/329\u001B[0m \u001B[32m━━━━━━━━━━━━━━━━━━━━\u001B[0m\u001B[37m\u001B[0m \u001B[1m485s\u001B[0m 1s/step\n"
     ]
    }
   ],
   "source": [
    "y_balanced_pred = model.predict(X_Balanced)"
   ],
   "metadata": {
    "collapsed": false,
    "ExecuteTime": {
     "end_time": "2024-03-21T15:18:45.130689Z",
     "start_time": "2024-03-21T15:10:34.651157Z"
    }
   },
   "id": "97867622247e7c7",
   "execution_count": 91
  },
  {
   "cell_type": "code",
   "execution_count": 92,
   "outputs": [],
   "source": [
    "yf_pred_maxes = []\n",
    "for row in yf_pred:\n",
    "    yf_pred_maxes.append(row.argmax())"
   ],
   "metadata": {
    "collapsed": false,
    "ExecuteTime": {
     "end_time": "2024-03-21T15:18:45.145244Z",
     "start_time": "2024-03-21T15:18:45.133806Z"
    }
   },
   "id": "621dbbae8bdf098b"
  },
  {
   "cell_type": "code",
   "execution_count": 93,
   "outputs": [],
   "source": [
    "yf_maxes = []\n",
    "for row in YF_cat:\n",
    "    yf_maxes.append(row.argmax())"
   ],
   "metadata": {
    "collapsed": false,
    "ExecuteTime": {
     "end_time": "2024-03-21T15:18:45.155530Z",
     "start_time": "2024-03-21T15:18:45.146801Z"
    }
   },
   "id": "808cd73b00aba4be"
  },
  {
   "cell_type": "code",
   "outputs": [],
   "source": [
    "y_balanced_pred_maxes = []\n",
    "for row in y_balanced_pred:\n",
    "    y_balanced_pred_maxes.append(row.argmax())"
   ],
   "metadata": {
    "collapsed": false,
    "ExecuteTime": {
     "end_time": "2024-03-21T15:18:45.170612Z",
     "start_time": "2024-03-21T15:18:45.157547Z"
    }
   },
   "id": "c68a6db4bf6dd840",
   "execution_count": 94
  },
  {
   "cell_type": "code",
   "outputs": [],
   "source": [
    "y_balanced_maxes = []\n",
    "for row in Y_Balanced_cat:\n",
    "    y_balanced_maxes.append(row.argmax())"
   ],
   "metadata": {
    "collapsed": false,
    "ExecuteTime": {
     "end_time": "2024-03-21T15:18:45.183988Z",
     "start_time": "2024-03-21T15:18:45.172429Z"
    }
   },
   "id": "2fd2784fcd05261f",
   "execution_count": 95
  },
  {
   "cell_type": "code",
   "execution_count": 72,
   "outputs": [
    {
     "name": "stdout",
     "output_type": "stream",
     "text": [
      "              precision    recall  f1-score   support\n",
      "\n",
      "           0       0.77      0.86      0.81       327\n",
      "           1       0.66      0.88      0.75       514\n",
      "           2       0.49      0.79      0.60      1099\n",
      "           3       0.56      0.99      0.72       115\n",
      "           4       0.40      0.79      0.53      1113\n",
      "           5       0.97      0.66      0.79      6705\n",
      "           6       0.76      0.99      0.86       142\n",
      "\n",
      "    accuracy                           0.72     10015\n",
      "   macro avg       0.66      0.85      0.72     10015\n",
      "weighted avg       0.83      0.72      0.74     10015\n"
     ]
    }
   ],
   "source": [
    "from sklearn.metrics import classification_report\n",
    "\n",
    "print(classification_report(yf_maxes,yf_pred_maxes))"
   ],
   "metadata": {
    "collapsed": false,
    "ExecuteTime": {
     "end_time": "2024-03-21T14:53:48.093323Z",
     "start_time": "2024-03-21T14:53:48.070145Z"
    }
   },
   "id": "4e0ec52711cc6821"
  },
  {
   "cell_type": "code",
   "execution_count": 73,
   "outputs": [],
   "source": [
    "cm = confusion_matrix(yf_maxes, yf_pred_maxes)"
   ],
   "metadata": {
    "collapsed": false,
    "ExecuteTime": {
     "end_time": "2024-03-21T14:53:48.104819Z",
     "start_time": "2024-03-21T14:53:48.095916Z"
    }
   },
   "id": "11f4931b8be3692f"
  },
  {
   "cell_type": "code",
   "outputs": [
    {
     "name": "stdout",
     "output_type": "stream",
     "text": [
      "              precision    recall  f1-score   support\n",
      "\n",
      "           0       0.73      0.08      0.15      1500\n",
      "           1       0.45      0.22      0.30      1500\n",
      "           2       0.19      0.87      0.31      1500\n",
      "           3       0.64      0.16      0.25      1500\n",
      "           4       0.46      0.31      0.37      1500\n",
      "           5       0.54      0.33      0.41      1500\n",
      "           6       0.97      0.30      0.46      1500\n",
      "\n",
      "    accuracy                           0.33     10500\n",
      "   macro avg       0.57      0.33      0.32     10500\n",
      "weighted avg       0.57      0.33      0.32     10500\n"
     ]
    }
   ],
   "source": [
    "print(classification_report(y_balanced_maxes,y_balanced_pred_maxes))"
   ],
   "metadata": {
    "collapsed": false,
    "ExecuteTime": {
     "end_time": "2024-03-21T14:53:48.129845Z",
     "start_time": "2024-03-21T14:53:48.106473Z"
    }
   },
   "id": "f3e678751160f461",
   "execution_count": 74
  },
  {
   "cell_type": "code",
   "outputs": [
    {
     "name": "stdout",
     "output_type": "stream",
     "text": [
      "Classification report saved to: 1500_sequential_balanced_random_orientation_report.txt\n"
     ]
    }
   ],
   "source": [
    "report = classification_report(y_balanced_maxes,y_balanced_pred_maxes)\n",
    "\n",
    "# Specify the file path where you want to save the report\n",
    "file_path = \"1500_sequential_balanced_random_orientation_report.txt\"\n",
    "\n",
    "# Write the classification report to the file\n",
    "with open(file_path, \"w\") as file:\n",
    "    file.write(report)\n",
    "\n",
    "print(\"Classification report saved to:\", file_path)"
   ],
   "metadata": {
    "collapsed": false,
    "ExecuteTime": {
     "end_time": "2024-03-21T14:54:31.395407Z",
     "start_time": "2024-03-21T14:54:31.356899Z"
    }
   },
   "id": "a99f009bd03b1ab1",
   "execution_count": 75
  },
  {
   "cell_type": "code",
   "outputs": [],
   "source": [
    "cm1 = confusion_matrix(y_balanced_maxes, y_balanced_pred_maxes)"
   ],
   "metadata": {
    "collapsed": false,
    "ExecuteTime": {
     "end_time": "2024-03-21T14:55:17.298914Z",
     "start_time": "2024-03-21T14:55:17.279257Z"
    }
   },
   "id": "91cc7bc45ee209f2",
   "execution_count": 76
  },
  {
   "cell_type": "code",
   "execution_count": 77,
   "outputs": [
    {
     "data": {
      "text/plain": "<Figure size 640x480 with 2 Axes>",
      "image/png": "[encoded data removed]"
     },
     "metadata": {},
     "output_type": "display_data"
    }
   ],
   "source": [
    "from sklearn import metrics\n",
    "labels = np.unique(YF)\n",
    "\n",
    "cm_display = metrics.ConfusionMatrixDisplay(confusion_matrix = cm, display_labels = labels)\n",
    "\n",
    "cm_display.plot(cmap='Blues')\n",
    "plt.show()\n",
    "#https://www.w3schools.com/python/python_ml_confusion_matrix.asp"
   ],
   "metadata": {
    "collapsed": false,
    "ExecuteTime": {
     "end_time": "2024-03-21T14:55:30.653606Z",
     "start_time": "2024-03-21T14:55:30.433052Z"
    }
   },
   "id": "bcffacee72d276a5"
  },
  {
   "cell_type": "code",
   "outputs": [
    {
     "data": {
      "text/plain": "<Figure size 640x480 with 2 Axes>",
      "image/png": "[encoded data removed]"
     },
     "metadata": {},
     "output_type": "display_data"
    }
   ],
   "source": [
    "labels = np.unique(Y_Balanced)\n",
    "\n",
    "cm_display = metrics.ConfusionMatrixDisplay(confusion_matrix = cm1, display_labels = labels)\n",
    "\n",
    "cm_display.plot(cmap='Blues')\n",
    "plt.savefig('1500_Sequential_balanced_random_orientation_CM.png')\n",
    "plt.show()"
   ],
   "metadata": {
    "collapsed": false,
    "ExecuteTime": {
     "end_time": "2024-03-21T14:55:38.079582Z",
     "start_time": "2024-03-21T14:55:37.778167Z"
    }
   },
   "id": "685558f786397b3e",
   "execution_count": 78
  },
  {
   "cell_type": "code",
   "execution_count": 37,
   "outputs": [
    {
     "name": "stdout",
     "output_type": "stream",
     "text": [
      "\u001B[1m 32/329\u001B[0m \u001B[32m━\u001B[0m\u001B[37m━━━━━━━━━━━━━━━━━━━\u001B[0m \u001B[1m7:02\u001B[0m 1s/step"
     ]
    },
    {
     "ename": "KeyboardInterrupt",
     "evalue": "",
     "output_type": "error",
     "traceback": [
      "\u001B[0;31m---------------------------------------------------------------------------\u001B[0m",
      "\u001B[0;31mKeyboardInterrupt\u001B[0m                         Traceback (most recent call last)",
      "Cell \u001B[0;32mIn[37], line 1\u001B[0m\n\u001B[0;32m----> 1\u001B[0m y_pred \u001B[38;5;241m=\u001B[39m \u001B[43mmodel\u001B[49m\u001B[38;5;241;43m.\u001B[39;49m\u001B[43mpredict\u001B[49m\u001B[43m(\u001B[49m\u001B[43mX\u001B[49m\u001B[43m)\u001B[49m\n",
      "File \u001B[0;32m~/PycharmProjects/4thrYearPythonProject/venv/lib/python3.9/site-packages/keras/src/utils/traceback_utils.py:117\u001B[0m, in \u001B[0;36mfilter_traceback.<locals>.error_handler\u001B[0;34m(*args, **kwargs)\u001B[0m\n\u001B[1;32m    115\u001B[0m filtered_tb \u001B[38;5;241m=\u001B[39m \u001B[38;5;28;01mNone\u001B[39;00m\n\u001B[1;32m    116\u001B[0m \u001B[38;5;28;01mtry\u001B[39;00m:\n\u001B[0;32m--> 117\u001B[0m     \u001B[38;5;28;01mreturn\u001B[39;00m \u001B[43mfn\u001B[49m\u001B[43m(\u001B[49m\u001B[38;5;241;43m*\u001B[39;49m\u001B[43margs\u001B[49m\u001B[43m,\u001B[49m\u001B[43m \u001B[49m\u001B[38;5;241;43m*\u001B[39;49m\u001B[38;5;241;43m*\u001B[39;49m\u001B[43mkwargs\u001B[49m\u001B[43m)\u001B[49m\n\u001B[1;32m    118\u001B[0m \u001B[38;5;28;01mexcept\u001B[39;00m \u001B[38;5;167;01mException\u001B[39;00m \u001B[38;5;28;01mas\u001B[39;00m e:\n\u001B[1;32m    119\u001B[0m     filtered_tb \u001B[38;5;241m=\u001B[39m _process_traceback_frames(e\u001B[38;5;241m.\u001B[39m__traceback__)\n",
      "File \u001B[0;32m~/PycharmProjects/4thrYearPythonProject/venv/lib/python3.9/site-packages/keras/src/backend/tensorflow/trainer.py:515\u001B[0m, in \u001B[0;36mTensorFlowTrainer.predict\u001B[0;34m(self, x, batch_size, verbose, steps, callbacks)\u001B[0m\n\u001B[1;32m    513\u001B[0m callbacks\u001B[38;5;241m.\u001B[39mon_predict_batch_begin(step)\n\u001B[1;32m    514\u001B[0m data \u001B[38;5;241m=\u001B[39m get_data(iterator)\n\u001B[0;32m--> 515\u001B[0m batch_outputs \u001B[38;5;241m=\u001B[39m \u001B[38;5;28;43mself\u001B[39;49m\u001B[38;5;241;43m.\u001B[39;49m\u001B[43mpredict_function\u001B[49m\u001B[43m(\u001B[49m\u001B[43mdata\u001B[49m\u001B[43m)\u001B[49m\n\u001B[1;32m    516\u001B[0m outputs \u001B[38;5;241m=\u001B[39m append_to_outputs(batch_outputs, outputs)\n\u001B[1;32m    517\u001B[0m callbacks\u001B[38;5;241m.\u001B[39mon_predict_batch_end(step, {\u001B[38;5;124m\"\u001B[39m\u001B[38;5;124moutputs\u001B[39m\u001B[38;5;124m\"\u001B[39m: batch_outputs})\n",
      "File \u001B[0;32m~/PycharmProjects/4thrYearPythonProject/venv/lib64/python3.9/site-packages/tensorflow/python/util/traceback_utils.py:150\u001B[0m, in \u001B[0;36mfilter_traceback.<locals>.error_handler\u001B[0;34m(*args, **kwargs)\u001B[0m\n\u001B[1;32m    148\u001B[0m filtered_tb \u001B[38;5;241m=\u001B[39m \u001B[38;5;28;01mNone\u001B[39;00m\n\u001B[1;32m    149\u001B[0m \u001B[38;5;28;01mtry\u001B[39;00m:\n\u001B[0;32m--> 150\u001B[0m   \u001B[38;5;28;01mreturn\u001B[39;00m \u001B[43mfn\u001B[49m\u001B[43m(\u001B[49m\u001B[38;5;241;43m*\u001B[39;49m\u001B[43margs\u001B[49m\u001B[43m,\u001B[49m\u001B[43m \u001B[49m\u001B[38;5;241;43m*\u001B[39;49m\u001B[38;5;241;43m*\u001B[39;49m\u001B[43mkwargs\u001B[49m\u001B[43m)\u001B[49m\n\u001B[1;32m    151\u001B[0m \u001B[38;5;28;01mexcept\u001B[39;00m \u001B[38;5;167;01mException\u001B[39;00m \u001B[38;5;28;01mas\u001B[39;00m e:\n\u001B[1;32m    152\u001B[0m   filtered_tb \u001B[38;5;241m=\u001B[39m _process_traceback_frames(e\u001B[38;5;241m.\u001B[39m__traceback__)\n",
      "File \u001B[0;32m~/PycharmProjects/4thrYearPythonProject/venv/lib64/python3.9/site-packages/tensorflow/python/eager/polymorphic_function/polymorphic_function.py:833\u001B[0m, in \u001B[0;36mFunction.__call__\u001B[0;34m(self, *args, **kwds)\u001B[0m\n\u001B[1;32m    830\u001B[0m compiler \u001B[38;5;241m=\u001B[39m \u001B[38;5;124m\"\u001B[39m\u001B[38;5;124mxla\u001B[39m\u001B[38;5;124m\"\u001B[39m \u001B[38;5;28;01mif\u001B[39;00m \u001B[38;5;28mself\u001B[39m\u001B[38;5;241m.\u001B[39m_jit_compile \u001B[38;5;28;01melse\u001B[39;00m \u001B[38;5;124m\"\u001B[39m\u001B[38;5;124mnonXla\u001B[39m\u001B[38;5;124m\"\u001B[39m\n\u001B[1;32m    832\u001B[0m \u001B[38;5;28;01mwith\u001B[39;00m OptionalXlaContext(\u001B[38;5;28mself\u001B[39m\u001B[38;5;241m.\u001B[39m_jit_compile):\n\u001B[0;32m--> 833\u001B[0m   result \u001B[38;5;241m=\u001B[39m \u001B[38;5;28;43mself\u001B[39;49m\u001B[38;5;241;43m.\u001B[39;49m\u001B[43m_call\u001B[49m\u001B[43m(\u001B[49m\u001B[38;5;241;43m*\u001B[39;49m\u001B[43margs\u001B[49m\u001B[43m,\u001B[49m\u001B[43m \u001B[49m\u001B[38;5;241;43m*\u001B[39;49m\u001B[38;5;241;43m*\u001B[39;49m\u001B[43mkwds\u001B[49m\u001B[43m)\u001B[49m\n\u001B[1;32m    835\u001B[0m new_tracing_count \u001B[38;5;241m=\u001B[39m \u001B[38;5;28mself\u001B[39m\u001B[38;5;241m.\u001B[39mexperimental_get_tracing_count()\n\u001B[1;32m    836\u001B[0m without_tracing \u001B[38;5;241m=\u001B[39m (tracing_count \u001B[38;5;241m==\u001B[39m new_tracing_count)\n",
      "File \u001B[0;32m~/PycharmProjects/4thrYearPythonProject/venv/lib64/python3.9/site-packages/tensorflow/python/eager/polymorphic_function/polymorphic_function.py:878\u001B[0m, in \u001B[0;36mFunction._call\u001B[0;34m(self, *args, **kwds)\u001B[0m\n\u001B[1;32m    875\u001B[0m \u001B[38;5;28mself\u001B[39m\u001B[38;5;241m.\u001B[39m_lock\u001B[38;5;241m.\u001B[39mrelease()\n\u001B[1;32m    876\u001B[0m \u001B[38;5;66;03m# In this case we have not created variables on the first call. So we can\u001B[39;00m\n\u001B[1;32m    877\u001B[0m \u001B[38;5;66;03m# run the first trace but we should fail if variables are created.\u001B[39;00m\n\u001B[0;32m--> 878\u001B[0m results \u001B[38;5;241m=\u001B[39m \u001B[43mtracing_compilation\u001B[49m\u001B[38;5;241;43m.\u001B[39;49m\u001B[43mcall_function\u001B[49m\u001B[43m(\u001B[49m\n\u001B[1;32m    879\u001B[0m \u001B[43m    \u001B[49m\u001B[43margs\u001B[49m\u001B[43m,\u001B[49m\u001B[43m \u001B[49m\u001B[43mkwds\u001B[49m\u001B[43m,\u001B[49m\u001B[43m \u001B[49m\u001B[38;5;28;43mself\u001B[39;49m\u001B[38;5;241;43m.\u001B[39;49m\u001B[43m_variable_creation_config\u001B[49m\n\u001B[1;32m    880\u001B[0m \u001B[43m\u001B[49m\u001B[43m)\u001B[49m\n\u001B[1;32m    881\u001B[0m \u001B[38;5;28;01mif\u001B[39;00m \u001B[38;5;28mself\u001B[39m\u001B[38;5;241m.\u001B[39m_created_variables:\n\u001B[1;32m    882\u001B[0m   \u001B[38;5;28;01mraise\u001B[39;00m \u001B[38;5;167;01mValueError\u001B[39;00m(\u001B[38;5;124m\"\u001B[39m\u001B[38;5;124mCreating variables on a non-first call to a function\u001B[39m\u001B[38;5;124m\"\u001B[39m\n\u001B[1;32m    883\u001B[0m                    \u001B[38;5;124m\"\u001B[39m\u001B[38;5;124m decorated with tf.function.\u001B[39m\u001B[38;5;124m\"\u001B[39m)\n",
      "File \u001B[0;32m~/PycharmProjects/4thrYearPythonProject/venv/lib64/python3.9/site-packages/tensorflow/python/eager/polymorphic_function/tracing_compilation.py:139\u001B[0m, in \u001B[0;36mcall_function\u001B[0;34m(args, kwargs, tracing_options)\u001B[0m\n\u001B[1;32m    137\u001B[0m bound_args \u001B[38;5;241m=\u001B[39m function\u001B[38;5;241m.\u001B[39mfunction_type\u001B[38;5;241m.\u001B[39mbind(\u001B[38;5;241m*\u001B[39margs, \u001B[38;5;241m*\u001B[39m\u001B[38;5;241m*\u001B[39mkwargs)\n\u001B[1;32m    138\u001B[0m flat_inputs \u001B[38;5;241m=\u001B[39m function\u001B[38;5;241m.\u001B[39mfunction_type\u001B[38;5;241m.\u001B[39munpack_inputs(bound_args)\n\u001B[0;32m--> 139\u001B[0m \u001B[38;5;28;01mreturn\u001B[39;00m \u001B[43mfunction\u001B[49m\u001B[38;5;241;43m.\u001B[39;49m\u001B[43m_call_flat\u001B[49m\u001B[43m(\u001B[49m\u001B[43m  \u001B[49m\u001B[38;5;66;43;03m# pylint: disable=protected-access\u001B[39;49;00m\n\u001B[1;32m    140\u001B[0m \u001B[43m    \u001B[49m\u001B[43mflat_inputs\u001B[49m\u001B[43m,\u001B[49m\u001B[43m \u001B[49m\u001B[43mcaptured_inputs\u001B[49m\u001B[38;5;241;43m=\u001B[39;49m\u001B[43mfunction\u001B[49m\u001B[38;5;241;43m.\u001B[39;49m\u001B[43mcaptured_inputs\u001B[49m\n\u001B[1;32m    141\u001B[0m \u001B[43m\u001B[49m\u001B[43m)\u001B[49m\n",
      "File \u001B[0;32m~/PycharmProjects/4thrYearPythonProject/venv/lib64/python3.9/site-packages/tensorflow/python/eager/polymorphic_function/concrete_function.py:1322\u001B[0m, in \u001B[0;36mConcreteFunction._call_flat\u001B[0;34m(self, tensor_inputs, captured_inputs)\u001B[0m\n\u001B[1;32m   1318\u001B[0m possible_gradient_type \u001B[38;5;241m=\u001B[39m gradients_util\u001B[38;5;241m.\u001B[39mPossibleTapeGradientTypes(args)\n\u001B[1;32m   1319\u001B[0m \u001B[38;5;28;01mif\u001B[39;00m (possible_gradient_type \u001B[38;5;241m==\u001B[39m gradients_util\u001B[38;5;241m.\u001B[39mPOSSIBLE_GRADIENT_TYPES_NONE\n\u001B[1;32m   1320\u001B[0m     \u001B[38;5;129;01mand\u001B[39;00m executing_eagerly):\n\u001B[1;32m   1321\u001B[0m   \u001B[38;5;66;03m# No tape is watching; skip to running the function.\u001B[39;00m\n\u001B[0;32m-> 1322\u001B[0m   \u001B[38;5;28;01mreturn\u001B[39;00m \u001B[38;5;28;43mself\u001B[39;49m\u001B[38;5;241;43m.\u001B[39;49m\u001B[43m_inference_function\u001B[49m\u001B[38;5;241;43m.\u001B[39;49m\u001B[43mcall_preflattened\u001B[49m\u001B[43m(\u001B[49m\u001B[43margs\u001B[49m\u001B[43m)\u001B[49m\n\u001B[1;32m   1323\u001B[0m forward_backward \u001B[38;5;241m=\u001B[39m \u001B[38;5;28mself\u001B[39m\u001B[38;5;241m.\u001B[39m_select_forward_and_backward_functions(\n\u001B[1;32m   1324\u001B[0m     args,\n\u001B[1;32m   1325\u001B[0m     possible_gradient_type,\n\u001B[1;32m   1326\u001B[0m     executing_eagerly)\n\u001B[1;32m   1327\u001B[0m forward_function, args_with_tangents \u001B[38;5;241m=\u001B[39m forward_backward\u001B[38;5;241m.\u001B[39mforward()\n",
      "File \u001B[0;32m~/PycharmProjects/4thrYearPythonProject/venv/lib64/python3.9/site-packages/tensorflow/python/eager/polymorphic_function/atomic_function.py:216\u001B[0m, in \u001B[0;36mAtomicFunction.call_preflattened\u001B[0;34m(self, args)\u001B[0m\n\u001B[1;32m    214\u001B[0m \u001B[38;5;28;01mdef\u001B[39;00m \u001B[38;5;21mcall_preflattened\u001B[39m(\u001B[38;5;28mself\u001B[39m, args: Sequence[core\u001B[38;5;241m.\u001B[39mTensor]) \u001B[38;5;241m-\u001B[39m\u001B[38;5;241m>\u001B[39m Any:\n\u001B[1;32m    215\u001B[0m \u001B[38;5;250m  \u001B[39m\u001B[38;5;124;03m\"\"\"Calls with flattened tensor inputs and returns the structured output.\"\"\"\u001B[39;00m\n\u001B[0;32m--> 216\u001B[0m   flat_outputs \u001B[38;5;241m=\u001B[39m \u001B[38;5;28;43mself\u001B[39;49m\u001B[38;5;241;43m.\u001B[39;49m\u001B[43mcall_flat\u001B[49m\u001B[43m(\u001B[49m\u001B[38;5;241;43m*\u001B[39;49m\u001B[43margs\u001B[49m\u001B[43m)\u001B[49m\n\u001B[1;32m    217\u001B[0m   \u001B[38;5;28;01mreturn\u001B[39;00m \u001B[38;5;28mself\u001B[39m\u001B[38;5;241m.\u001B[39mfunction_type\u001B[38;5;241m.\u001B[39mpack_output(flat_outputs)\n",
      "File \u001B[0;32m~/PycharmProjects/4thrYearPythonProject/venv/lib64/python3.9/site-packages/tensorflow/python/eager/polymorphic_function/atomic_function.py:251\u001B[0m, in \u001B[0;36mAtomicFunction.call_flat\u001B[0;34m(self, *args)\u001B[0m\n\u001B[1;32m    249\u001B[0m \u001B[38;5;28;01mwith\u001B[39;00m record\u001B[38;5;241m.\u001B[39mstop_recording():\n\u001B[1;32m    250\u001B[0m   \u001B[38;5;28;01mif\u001B[39;00m \u001B[38;5;28mself\u001B[39m\u001B[38;5;241m.\u001B[39m_bound_context\u001B[38;5;241m.\u001B[39mexecuting_eagerly():\n\u001B[0;32m--> 251\u001B[0m     outputs \u001B[38;5;241m=\u001B[39m \u001B[38;5;28;43mself\u001B[39;49m\u001B[38;5;241;43m.\u001B[39;49m\u001B[43m_bound_context\u001B[49m\u001B[38;5;241;43m.\u001B[39;49m\u001B[43mcall_function\u001B[49m\u001B[43m(\u001B[49m\n\u001B[1;32m    252\u001B[0m \u001B[43m        \u001B[49m\u001B[38;5;28;43mself\u001B[39;49m\u001B[38;5;241;43m.\u001B[39;49m\u001B[43mname\u001B[49m\u001B[43m,\u001B[49m\n\u001B[1;32m    253\u001B[0m \u001B[43m        \u001B[49m\u001B[38;5;28;43mlist\u001B[39;49m\u001B[43m(\u001B[49m\u001B[43margs\u001B[49m\u001B[43m)\u001B[49m\u001B[43m,\u001B[49m\n\u001B[1;32m    254\u001B[0m \u001B[43m        \u001B[49m\u001B[38;5;28;43mlen\u001B[39;49m\u001B[43m(\u001B[49m\u001B[38;5;28;43mself\u001B[39;49m\u001B[38;5;241;43m.\u001B[39;49m\u001B[43mfunction_type\u001B[49m\u001B[38;5;241;43m.\u001B[39;49m\u001B[43mflat_outputs\u001B[49m\u001B[43m)\u001B[49m\u001B[43m,\u001B[49m\n\u001B[1;32m    255\u001B[0m \u001B[43m    \u001B[49m\u001B[43m)\u001B[49m\n\u001B[1;32m    256\u001B[0m   \u001B[38;5;28;01melse\u001B[39;00m:\n\u001B[1;32m    257\u001B[0m     outputs \u001B[38;5;241m=\u001B[39m make_call_op_in_graph(\n\u001B[1;32m    258\u001B[0m         \u001B[38;5;28mself\u001B[39m,\n\u001B[1;32m    259\u001B[0m         \u001B[38;5;28mlist\u001B[39m(args),\n\u001B[1;32m    260\u001B[0m         \u001B[38;5;28mself\u001B[39m\u001B[38;5;241m.\u001B[39m_bound_context\u001B[38;5;241m.\u001B[39mfunction_call_options\u001B[38;5;241m.\u001B[39mas_attrs(),\n\u001B[1;32m    261\u001B[0m     )\n",
      "File \u001B[0;32m~/PycharmProjects/4thrYearPythonProject/venv/lib64/python3.9/site-packages/tensorflow/python/eager/context.py:1500\u001B[0m, in \u001B[0;36mContext.call_function\u001B[0;34m(self, name, tensor_inputs, num_outputs)\u001B[0m\n\u001B[1;32m   1498\u001B[0m cancellation_context \u001B[38;5;241m=\u001B[39m cancellation\u001B[38;5;241m.\u001B[39mcontext()\n\u001B[1;32m   1499\u001B[0m \u001B[38;5;28;01mif\u001B[39;00m cancellation_context \u001B[38;5;129;01mis\u001B[39;00m \u001B[38;5;28;01mNone\u001B[39;00m:\n\u001B[0;32m-> 1500\u001B[0m   outputs \u001B[38;5;241m=\u001B[39m \u001B[43mexecute\u001B[49m\u001B[38;5;241;43m.\u001B[39;49m\u001B[43mexecute\u001B[49m\u001B[43m(\u001B[49m\n\u001B[1;32m   1501\u001B[0m \u001B[43m      \u001B[49m\u001B[43mname\u001B[49m\u001B[38;5;241;43m.\u001B[39;49m\u001B[43mdecode\u001B[49m\u001B[43m(\u001B[49m\u001B[38;5;124;43m\"\u001B[39;49m\u001B[38;5;124;43mutf-8\u001B[39;49m\u001B[38;5;124;43m\"\u001B[39;49m\u001B[43m)\u001B[49m\u001B[43m,\u001B[49m\n\u001B[1;32m   1502\u001B[0m \u001B[43m      \u001B[49m\u001B[43mnum_outputs\u001B[49m\u001B[38;5;241;43m=\u001B[39;49m\u001B[43mnum_outputs\u001B[49m\u001B[43m,\u001B[49m\n\u001B[1;32m   1503\u001B[0m \u001B[43m      \u001B[49m\u001B[43minputs\u001B[49m\u001B[38;5;241;43m=\u001B[39;49m\u001B[43mtensor_inputs\u001B[49m\u001B[43m,\u001B[49m\n\u001B[1;32m   1504\u001B[0m \u001B[43m      \u001B[49m\u001B[43mattrs\u001B[49m\u001B[38;5;241;43m=\u001B[39;49m\u001B[43mattrs\u001B[49m\u001B[43m,\u001B[49m\n\u001B[1;32m   1505\u001B[0m \u001B[43m      \u001B[49m\u001B[43mctx\u001B[49m\u001B[38;5;241;43m=\u001B[39;49m\u001B[38;5;28;43mself\u001B[39;49m\u001B[43m,\u001B[49m\n\u001B[1;32m   1506\u001B[0m \u001B[43m  \u001B[49m\u001B[43m)\u001B[49m\n\u001B[1;32m   1507\u001B[0m \u001B[38;5;28;01melse\u001B[39;00m:\n\u001B[1;32m   1508\u001B[0m   outputs \u001B[38;5;241m=\u001B[39m execute\u001B[38;5;241m.\u001B[39mexecute_with_cancellation(\n\u001B[1;32m   1509\u001B[0m       name\u001B[38;5;241m.\u001B[39mdecode(\u001B[38;5;124m\"\u001B[39m\u001B[38;5;124mutf-8\u001B[39m\u001B[38;5;124m\"\u001B[39m),\n\u001B[1;32m   1510\u001B[0m       num_outputs\u001B[38;5;241m=\u001B[39mnum_outputs,\n\u001B[0;32m   (...)\u001B[0m\n\u001B[1;32m   1514\u001B[0m       cancellation_manager\u001B[38;5;241m=\u001B[39mcancellation_context,\n\u001B[1;32m   1515\u001B[0m   )\n",
      "File \u001B[0;32m~/PycharmProjects/4thrYearPythonProject/venv/lib64/python3.9/site-packages/tensorflow/python/eager/execute.py:53\u001B[0m, in \u001B[0;36mquick_execute\u001B[0;34m(op_name, num_outputs, inputs, attrs, ctx, name)\u001B[0m\n\u001B[1;32m     51\u001B[0m \u001B[38;5;28;01mtry\u001B[39;00m:\n\u001B[1;32m     52\u001B[0m   ctx\u001B[38;5;241m.\u001B[39mensure_initialized()\n\u001B[0;32m---> 53\u001B[0m   tensors \u001B[38;5;241m=\u001B[39m \u001B[43mpywrap_tfe\u001B[49m\u001B[38;5;241;43m.\u001B[39;49m\u001B[43mTFE_Py_Execute\u001B[49m\u001B[43m(\u001B[49m\u001B[43mctx\u001B[49m\u001B[38;5;241;43m.\u001B[39;49m\u001B[43m_handle\u001B[49m\u001B[43m,\u001B[49m\u001B[43m \u001B[49m\u001B[43mdevice_name\u001B[49m\u001B[43m,\u001B[49m\u001B[43m \u001B[49m\u001B[43mop_name\u001B[49m\u001B[43m,\u001B[49m\n\u001B[1;32m     54\u001B[0m \u001B[43m                                      \u001B[49m\u001B[43minputs\u001B[49m\u001B[43m,\u001B[49m\u001B[43m \u001B[49m\u001B[43mattrs\u001B[49m\u001B[43m,\u001B[49m\u001B[43m \u001B[49m\u001B[43mnum_outputs\u001B[49m\u001B[43m)\u001B[49m\n\u001B[1;32m     55\u001B[0m \u001B[38;5;28;01mexcept\u001B[39;00m core\u001B[38;5;241m.\u001B[39m_NotOkStatusException \u001B[38;5;28;01mas\u001B[39;00m e:\n\u001B[1;32m     56\u001B[0m   \u001B[38;5;28;01mif\u001B[39;00m name \u001B[38;5;129;01mis\u001B[39;00m \u001B[38;5;129;01mnot\u001B[39;00m \u001B[38;5;28;01mNone\u001B[39;00m:\n",
      "\u001B[0;31mKeyboardInterrupt\u001B[0m: "
     ]
    }
   ],
   "source": [
    "y_pred = model.predict(X)"
   ],
   "metadata": {
    "collapsed": false,
    "ExecuteTime": {
     "end_time": "2024-03-21T14:01:21.975628Z",
     "start_time": "2024-03-21T14:00:28.524855Z"
    }
   },
   "id": "95b136cb63f3632e"
  },
  {
   "cell_type": "code",
   "execution_count": 49,
   "outputs": [],
   "source": [
    "y_pred_maxes = []\n",
    "for row in y_pred:\n",
    "    y_pred_maxes.append(row.argmax())"
   ],
   "metadata": {
    "collapsed": false,
    "ExecuteTime": {
     "end_time": "2024-03-09T11:33:37.019229700Z",
     "start_time": "2024-03-09T11:33:37.012743800Z"
    }
   },
   "id": "fd5ae4bb45f49471"
  },
  {
   "cell_type": "code",
   "execution_count": 51,
   "outputs": [
    {
     "data": {
      "text/plain": "2"
     },
     "execution_count": 51,
     "metadata": {},
     "output_type": "execute_result"
    }
   ],
   "source": [
    "y_pred_maxes[1000]"
   ],
   "metadata": {
    "collapsed": false,
    "ExecuteTime": {
     "end_time": "2024-03-09T11:33:48.147015100Z",
     "start_time": "2024-03-09T11:33:48.098270600Z"
    }
   },
   "id": "70fc9f5e56c42eb1"
  },
  {
   "cell_type": "code",
   "execution_count": 38,
   "outputs": [
    {
     "data": {
      "text/plain": "4"
     },
     "execution_count": 38,
     "metadata": {},
     "output_type": "execute_result"
    }
   ],
   "source": [
    "Y_cat[2000].argmax()"
   ],
   "metadata": {
    "collapsed": false,
    "ExecuteTime": {
     "end_time": "2024-03-09T11:30:30.842232900Z",
     "start_time": "2024-03-09T11:30:30.801302700Z"
    }
   },
   "id": "bbaaeb16d92438bf"
  },
  {
   "cell_type": "code",
   "execution_count": 39,
   "outputs": [],
   "source": [
    "y_maxes = []\n",
    "for row in Y_cat:\n",
    "    y_maxes.append(row.argmax())"
   ],
   "metadata": {
    "collapsed": false,
    "ExecuteTime": {
     "end_time": "2024-03-09T11:31:05.630232Z",
     "start_time": "2024-03-09T11:31:05.609079500Z"
    }
   },
   "id": "8224681185e91e4"
  },
  {
   "cell_type": "code",
   "execution_count": 45,
   "outputs": [
    {
     "data": {
      "text/plain": "[0,\n 0,\n 0,\n 0,\n 0,\n 0,\n 0,\n 0,\n 0,\n 0,\n 0,\n 0,\n 0,\n 0,\n 0,\n 0,\n 0,\n 0,\n 0,\n 0,\n 0,\n 0,\n 0,\n 0,\n 0,\n 0,\n 0,\n 0,\n 0,\n 0,\n 0,\n 0,\n 0,\n 0,\n 0,\n 0,\n 0,\n 0,\n 0,\n 0,\n 0,\n 0,\n 0,\n 0,\n 0,\n 0,\n 0,\n 0,\n 0,\n 0,\n 0,\n 0,\n 0,\n 0,\n 0,\n 0,\n 0,\n 0,\n 0,\n 0,\n 0,\n 0,\n 0,\n 0,\n 0,\n 0,\n 0,\n 0,\n 0,\n 0,\n 0,\n 0,\n 0,\n 0,\n 0,\n 0,\n 0,\n 0,\n 0,\n 0,\n 0,\n 0,\n 0,\n 0,\n 0,\n 0,\n 0,\n 0,\n 0,\n 0,\n 0,\n 0,\n 0,\n 0,\n 0,\n 0,\n 0,\n 0,\n 0,\n 0,\n 0,\n 0,\n 0,\n 0,\n 0,\n 0,\n 0,\n 0,\n 0,\n 0,\n 0,\n 0,\n 0,\n 0,\n 0,\n 0,\n 0,\n 0,\n 0,\n 0,\n 0,\n 0,\n 0,\n 0,\n 0,\n 0,\n 0,\n 0,\n 0,\n 0,\n 0,\n 0,\n 0,\n 0,\n 0,\n 0,\n 0,\n 0,\n 0,\n 0,\n 0,\n 0,\n 0,\n 0,\n 0,\n 0,\n 0,\n 0,\n 0,\n 0,\n 0,\n 0,\n 0,\n 0,\n 0,\n 0,\n 0,\n 0,\n 0,\n 0,\n 0,\n 0,\n 0,\n 0,\n 0,\n 0,\n 0,\n 0,\n 0,\n 0,\n 0,\n 0,\n 0,\n 0,\n 0,\n 0,\n 0,\n 0,\n 0,\n 0,\n 0,\n 0,\n 0,\n 0,\n 0,\n 0,\n 0,\n 0,\n 0,\n 0,\n 0,\n 0,\n 0,\n 0,\n 0,\n 0,\n 0,\n 0,\n 0,\n 0,\n 0,\n 0,\n 0,\n 0,\n 0,\n 0,\n 0,\n 0,\n 0,\n 0,\n 0,\n 0,\n 0,\n 0,\n 0,\n 0,\n 0,\n 0,\n 0,\n 0,\n 0,\n 0,\n 0,\n 0,\n 0,\n 0,\n 0,\n 0,\n 0,\n 0,\n 0,\n 0,\n 0,\n 0,\n 0,\n 0,\n 0,\n 0,\n 0,\n 0,\n 0,\n 0,\n 0,\n 0,\n 0,\n 0,\n 0,\n 0,\n 0,\n 0,\n 0,\n 0,\n 0,\n 0,\n 0,\n 0,\n 0,\n 0,\n 0,\n 0,\n 0,\n 0,\n 0,\n 0,\n 0,\n 0,\n 0,\n 0,\n 0,\n 0,\n 0,\n 0,\n 0,\n 0,\n 0,\n 0,\n 0,\n 0,\n 0,\n 0,\n 0,\n 0,\n 0,\n 0,\n 0,\n 0,\n 0,\n 0,\n 0,\n 0,\n 0,\n 0,\n 0,\n 0,\n 0,\n 0,\n 0,\n 0,\n 0,\n 0,\n 0,\n 0,\n 0,\n 0,\n 0,\n 0,\n 0,\n 0,\n 0,\n 0,\n 0,\n 0,\n 0,\n 0,\n 0,\n 0,\n 0,\n 0,\n 0,\n 0,\n 0,\n 0,\n 0,\n 0,\n 0,\n 0,\n 0,\n 0,\n 0,\n 0,\n 0,\n 0,\n 0,\n 0,\n 0,\n 0,\n 0,\n 0,\n 0,\n 0,\n 0,\n 0,\n 0,\n 0,\n 0,\n 0,\n 0,\n 0,\n 0,\n 0,\n 0,\n 0,\n 0,\n 0,\n 0,\n 0,\n 0,\n 0,\n 0,\n 0,\n 0,\n 0,\n 0,\n 0,\n 0,\n 0,\n 0,\n 0,\n 0,\n 0,\n 0,\n 0,\n 0,\n 0,\n 0,\n 0,\n 0,\n 0,\n 0,\n 0,\n 0,\n 0,\n 0,\n 0,\n 0,\n 0,\n 0,\n 0,\n 0,\n 0,\n 0,\n 0,\n 0,\n 0,\n 0,\n 0,\n 0,\n 0,\n 0,\n 0,\n 0,\n 0,\n 0,\n 0,\n 0,\n 0,\n 0,\n 0,\n 0,\n 0,\n 0,\n 0,\n 0,\n 0,\n 0,\n 0,\n 0,\n 0,\n 0,\n 0,\n 0,\n 0,\n 0,\n 0,\n 0,\n 0,\n 0,\n 0,\n 0,\n 0,\n 0,\n 0,\n 0,\n 0,\n 0,\n 0,\n 0,\n 0,\n 0,\n 0,\n 0,\n 0,\n 0,\n 0,\n 0,\n 0,\n 0,\n 0,\n 0,\n 0,\n 0,\n 0,\n 0,\n 0,\n 0,\n 0,\n 0,\n 0,\n 0,\n 0,\n 0,\n 0,\n 0,\n 0,\n 0,\n 0,\n 0,\n 0,\n 0,\n 0,\n 0,\n 0,\n 0,\n 0,\n 0,\n 0,\n 0,\n 0,\n 0,\n 0,\n 0,\n 0,\n 0,\n 0,\n 0,\n 0,\n 0,\n 0,\n 0,\n 0,\n 0,\n 0,\n 0,\n 0,\n 0,\n 0,\n 0,\n 0,\n 0,\n 0,\n 1,\n 1,\n 1,\n 1,\n 1,\n 1,\n 1,\n 1,\n 1,\n 1,\n 1,\n 1,\n 1,\n 1,\n 1,\n 1,\n 1,\n 1,\n 1,\n 1,\n 1,\n 1,\n 1,\n 1,\n 1,\n 1,\n 1,\n 1,\n 1,\n 1,\n 1,\n 1,\n 1,\n 1,\n 1,\n 1,\n 1,\n 1,\n 1,\n 1,\n 1,\n 1,\n 1,\n 1,\n 1,\n 1,\n 1,\n 1,\n 1,\n 1,\n 1,\n 1,\n 1,\n 1,\n 1,\n 1,\n 1,\n 1,\n 1,\n 1,\n 1,\n 1,\n 1,\n 1,\n 1,\n 1,\n 1,\n 1,\n 1,\n 1,\n 1,\n 1,\n 1,\n 1,\n 1,\n 1,\n 1,\n 1,\n 1,\n 1,\n 1,\n 1,\n 1,\n 1,\n 1,\n 1,\n 1,\n 1,\n 1,\n 1,\n 1,\n 1,\n 1,\n 1,\n 1,\n 1,\n 1,\n 1,\n 1,\n 1,\n 1,\n 1,\n 1,\n 1,\n 1,\n 1,\n 1,\n 1,\n 1,\n 1,\n 1,\n 1,\n 1,\n 1,\n 1,\n 1,\n 1,\n 1,\n 1,\n 1,\n 1,\n 1,\n 1,\n 1,\n 1,\n 1,\n 1,\n 1,\n 1,\n 1,\n 1,\n 1,\n 1,\n 1,\n 1,\n 1,\n 1,\n 1,\n 1,\n 1,\n 1,\n 1,\n 1,\n 1,\n 1,\n 1,\n 1,\n 1,\n 1,\n 1,\n 1,\n 1,\n 1,\n 1,\n 1,\n 1,\n 1,\n 1,\n 1,\n 1,\n 1,\n 1,\n 1,\n 1,\n 1,\n 1,\n 1,\n 1,\n 1,\n 1,\n 1,\n 1,\n 1,\n 1,\n 1,\n 1,\n 1,\n 1,\n 1,\n 1,\n 1,\n 1,\n 1,\n 1,\n 1,\n 1,\n 1,\n 1,\n 1,\n 1,\n 1,\n 1,\n 1,\n 1,\n 1,\n 1,\n 1,\n 1,\n 1,\n 1,\n 1,\n 1,\n 1,\n 1,\n 1,\n 1,\n 1,\n 1,\n 1,\n 1,\n 1,\n 1,\n 1,\n 1,\n 1,\n 1,\n 1,\n 1,\n 1,\n 1,\n 1,\n 1,\n 1,\n 1,\n 1,\n 1,\n 1,\n 1,\n 1,\n 1,\n 1,\n 1,\n 1,\n 1,\n 1,\n 1,\n 1,\n 1,\n 1,\n 1,\n 1,\n 1,\n 1,\n 1,\n 1,\n 1,\n 1,\n 1,\n 1,\n 1,\n 1,\n 1,\n 1,\n 1,\n 1,\n 1,\n 1,\n 1,\n 1,\n 1,\n 1,\n 1,\n 1,\n 1,\n 1,\n 1,\n 1,\n 1,\n 1,\n 1,\n 1,\n 1,\n 1,\n 1,\n 1,\n 1,\n 1,\n 1,\n 1,\n 1,\n 1,\n 1,\n 1,\n 1,\n 1,\n 1,\n 1,\n 1,\n 1,\n 1,\n 1,\n 1,\n 1,\n 1,\n 1,\n 1,\n 1,\n 1,\n 1,\n 1,\n 1,\n 1,\n 1,\n 1,\n 1,\n 1,\n 1,\n 1,\n 1,\n 1,\n 1,\n 1,\n 1,\n 1,\n 1,\n 1,\n 1,\n 1,\n 1,\n 1,\n 1,\n 1,\n 1,\n 1,\n 1,\n 1,\n 1,\n 1,\n 1,\n 1,\n 1,\n 1,\n 1,\n 1,\n 1,\n 1,\n 1,\n 1,\n 1,\n 1,\n 1,\n 1,\n 1,\n 1,\n 1,\n 1,\n 1,\n 1,\n 1,\n 1,\n 1,\n 1,\n 1,\n 1,\n 1,\n 1,\n 1,\n 1,\n 1,\n 1,\n 1,\n 1,\n 1,\n 1,\n 1,\n 1,\n 1,\n 1,\n 1,\n 1,\n 1,\n 1,\n 1,\n 1,\n 1,\n 1,\n 1,\n 1,\n 1,\n 1,\n 1,\n 1,\n 1,\n 1,\n 1,\n 1,\n 1,\n 1,\n 1,\n 1,\n 1,\n 1,\n 1,\n 1,\n 1,\n 1,\n 1,\n 1,\n 1,\n 1,\n 1,\n 1,\n 1,\n 1,\n 1,\n 1,\n 1,\n 1,\n 1,\n 1,\n 1,\n 1,\n 1,\n 1,\n 1,\n 1,\n 1,\n 1,\n 1,\n 1,\n 1,\n 1,\n 1,\n 1,\n 1,\n 1,\n 1,\n 1,\n 1,\n 1,\n 1,\n 1,\n 1,\n 1,\n 1,\n 1,\n 1,\n 1,\n 1,\n 1,\n 1,\n 1,\n 1,\n 1,\n 1,\n 1,\n 1,\n 1,\n 1,\n 1,\n 1,\n 1,\n 1,\n 1,\n 1,\n 1,\n 1,\n 1,\n 1,\n 1,\n 1,\n 1,\n 1,\n 1,\n 1,\n 1,\n 1,\n 1,\n 1,\n 1,\n 1,\n 1,\n 1,\n 1,\n 1,\n 1,\n 1,\n 1,\n 1,\n 1,\n 1,\n 1,\n 1,\n 1,\n 1,\n 1,\n 1,\n 1,\n 1,\n 1,\n 1,\n 1,\n 1,\n 1,\n 1,\n 1,\n 1,\n 1,\n 1,\n 1,\n ...]"
     },
     "execution_count": 45,
     "metadata": {},
     "output_type": "execute_result"
    }
   ],
   "source": [
    "y_maxes"
   ],
   "metadata": {
    "collapsed": false,
    "ExecuteTime": {
     "end_time": "2024-03-09T11:31:44.473951600Z",
     "start_time": "2024-03-09T11:31:44.453651100Z"
    }
   },
   "id": "7d4b48b98359dbca"
  },
  {
   "cell_type": "code",
   "execution_count": 52,
   "outputs": [],
   "source": [
    "cm = confusion_matrix(y_maxes, y_pred_maxes)"
   ],
   "metadata": {
    "collapsed": false,
    "ExecuteTime": {
     "end_time": "2024-03-09T11:34:38.089721500Z",
     "start_time": "2024-03-09T11:34:38.073482Z"
    }
   },
   "id": "b1391ce102cdec92"
  },
  {
   "cell_type": "code",
   "execution_count": 53,
   "outputs": [
    {
     "data": {
      "text/plain": "array([[475,   3,  16,   0,   6,   0,   0],\n       [  3, 479,  14,   0,   2,   1,   1],\n       [  8,  12, 465,   0,   7,   8,   0],\n       [  0,   0,   0, 500,   0,   0,   0],\n       [ 12,   8,  59,   1, 404,  16,   0],\n       [  2,  15,  63,   0,  26, 394,   0],\n       [  0,   0,   0,   0,   0,   0, 500]], dtype=int64)"
     },
     "execution_count": 53,
     "metadata": {},
     "output_type": "execute_result"
    }
   ],
   "source": [
    "cm"
   ],
   "metadata": {
    "collapsed": false,
    "ExecuteTime": {
     "end_time": "2024-03-09T11:34:42.401963Z",
     "start_time": "2024-03-09T11:34:42.396158200Z"
    }
   },
   "id": "66e162673bcd1549"
  },
  {
   "cell_type": "code",
   "execution_count": null,
   "outputs": [],
   "source": [
    "from sklearn.metrics import classification_report\n",
    "\n",
    "print(classification_report(y_maxes,y_pred_maxes))"
   ],
   "metadata": {
    "collapsed": false
   },
   "id": "2292c849aedd74fa"
  },
  {
   "cell_type": "code",
   "execution_count": 96,
   "outputs": [
    {
     "name": "stderr",
     "output_type": "stream",
     "text": [
      "/home/jesse/PycharmProjects/4thrYearPythonProject/venv/lib64/python3.9/site-packages/sklearn/base.py:376: InconsistentVersionWarning: Trying to unpickle estimator SVC from version 1.2.2 when using version 1.4.1.post1. This might lead to breaking code or invalid results. Use at your own risk. For more info please refer to:\n",
      "https://scikit-learn.org/stable/model_persistence.html#security-maintainability-limitations\n",
      "  warnings.warn(\n"
     ]
    }
   ],
   "source": [
    "import joblib\n",
    "\n",
    "svm_model = joblib.load(os.path.join('models', 'svm_model.joblib'))"
   ],
   "metadata": {
    "collapsed": false,
    "ExecuteTime": {
     "end_time": "2024-03-21T15:20:25.492126Z",
     "start_time": "2024-03-21T15:20:25.478190Z"
    }
   },
   "id": "8adbc60bce7073fe"
  },
  {
   "cell_type": "code",
   "execution_count": 97,
   "outputs": [],
   "source": [
    "CVM_y_pred = svm_model.predict(yf_pred)"
   ],
   "metadata": {
    "collapsed": false,
    "ExecuteTime": {
     "end_time": "2024-03-21T15:20:42.724898Z",
     "start_time": "2024-03-21T15:20:42.511403Z"
    }
   },
   "id": "23160c494c999b3c"
  },
  {
   "cell_type": "code",
   "outputs": [],
   "source": [
    "CVM_y_pred_balanced = svm_model.predict(y_balanced_pred)"
   ],
   "metadata": {
    "collapsed": false,
    "ExecuteTime": {
     "end_time": "2024-03-21T15:21:46.290950Z",
     "start_time": "2024-03-21T15:21:46.098833Z"
    }
   },
   "id": "5bdbac061f16c417",
   "execution_count": 99
  },
  {
   "cell_type": "code",
   "execution_count": 98,
   "outputs": [
    {
     "name": "stdout",
     "output_type": "stream",
     "text": [
      "              precision    recall  f1-score   support\n",
      "\n",
      "           0       0.63      0.94      0.76       327\n",
      "           1       0.62      0.90      0.74       514\n",
      "           2       0.54      0.78      0.64      1099\n",
      "           3       0.50      1.00      0.66       115\n",
      "           4       0.48      0.77      0.59      1113\n",
      "           5       0.98      0.73      0.84      6705\n",
      "           6       0.80      1.00      0.89       142\n",
      "\n",
      "    accuracy                           0.76     10015\n",
      "   macro avg       0.65      0.87      0.73     10015\n",
      "weighted avg       0.84      0.76      0.78     10015\n"
     ]
    }
   ],
   "source": [
    "print(classification_report(yf_maxes,CVM_y_pred))"
   ],
   "metadata": {
    "collapsed": false,
    "ExecuteTime": {
     "end_time": "2024-03-21T15:20:58.848657Z",
     "start_time": "2024-03-21T15:20:58.828890Z"
    }
   },
   "id": "f24afdb5ac916e2"
  },
  {
   "cell_type": "code",
   "outputs": [
    {
     "name": "stdout",
     "output_type": "stream",
     "text": [
      "              precision    recall  f1-score   support\n",
      "\n",
      "           0       0.65      0.01      0.01      1500\n",
      "           1       0.40      0.20      0.27      1500\n",
      "           2       0.22      0.71      0.34      1500\n",
      "           3       0.70      0.04      0.07      1500\n",
      "           4       0.29      0.33      0.31      1500\n",
      "           5       0.57      0.10      0.17      1500\n",
      "           6       0.43      0.81      0.56      1500\n",
      "\n",
      "    accuracy                           0.31     10500\n",
      "   macro avg       0.47      0.31      0.25     10500\n",
      "weighted avg       0.47      0.31      0.25     10500\n"
     ]
    }
   ],
   "source": [
    "print(classification_report(y_balanced_maxes,CVM_y_pred_balanced))"
   ],
   "metadata": {
    "collapsed": false,
    "ExecuteTime": {
     "end_time": "2024-03-21T15:22:54.208368Z",
     "start_time": "2024-03-21T15:22:54.183832Z"
    }
   },
   "id": "ea9783a51920666e",
   "execution_count": 100
  },
  {
   "cell_type": "code",
   "outputs": [
    {
     "name": "stdout",
     "output_type": "stream",
     "text": [
      "Classification report saved to: 1500_svm_balanced_random_orientation_report.txt\n"
     ]
    }
   ],
   "source": [
    "report = classification_report(y_balanced_maxes,CVM_y_pred_balanced)\n",
    "\n",
    "# Specify the file path where you want to save the report\n",
    "file_path = \"1500_svm_balanced_random_orientation_report.txt\"\n",
    "\n",
    "# Write the classification report to the file\n",
    "with open(file_path, \"w\") as file:\n",
    "    file.write(report)\n",
    "\n",
    "print(\"Classification report saved to:\", file_path)"
   ],
   "metadata": {
    "collapsed": false,
    "ExecuteTime": {
     "end_time": "2024-03-21T15:41:09.524526Z",
     "start_time": "2024-03-21T15:41:09.491909Z"
    }
   },
   "id": "7280a318396d23c1",
   "execution_count": 105
  },
  {
   "cell_type": "code",
   "execution_count": 103,
   "outputs": [],
   "source": [
    "SVMcm = confusion_matrix(y_balanced_maxes, CVM_y_pred_balanced)"
   ],
   "metadata": {
    "collapsed": false,
    "ExecuteTime": {
     "end_time": "2024-03-21T15:37:41.353848Z",
     "start_time": "2024-03-21T15:37:41.337171Z"
    }
   },
   "id": "1dd41456e856d8cd"
  },
  {
   "cell_type": "code",
   "execution_count": 106,
   "outputs": [
    {
     "data": {
      "text/plain": "<Figure size 640x480 with 2 Axes>",
      "image/png": "[encoded data removed]"
     },
     "metadata": {},
     "output_type": "display_data"
    }
   ],
   "source": [
    "cm_display = metrics.ConfusionMatrixDisplay(confusion_matrix = SVMcm, display_labels = labels)\n",
    "\n",
    "cm_display.plot(cmap='Reds')\n",
    "plt.savefig('1500_svm_balanced_random_orientation_CM.png')\n",
    "plt.show()\n",
    "#https://www.w3schools.com/python/python_ml_confusion_matrix.asp"
   ],
   "metadata": {
    "collapsed": false,
    "ExecuteTime": {
     "end_time": "2024-03-21T15:42:21.648042Z",
     "start_time": "2024-03-21T15:42:21.336346Z"
    }
   },
   "id": "d14fd6a49b29158b"
  }
 ],
 "metadata": {
  "kernelspec": {
   "display_name": "Python 3",
   "language": "python",
   "name": "python3"
  },
  "language_info": {
   "codemirror_mode": {
    "name": "ipython",
    "version": 2
   },
   "file_extension": ".py",
   "mimetype": "text/x-python",
   "name": "python",
   "nbconvert_exporter": "python",
   "pygments_lexer": "ipython2",
   "version": "2.7.6"
  }
 },
 "nbformat": 4,
 "nbformat_minor": 5
}
