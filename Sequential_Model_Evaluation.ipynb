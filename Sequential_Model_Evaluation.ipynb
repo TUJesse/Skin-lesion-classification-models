{
 "cells": [
  {
   "cell_type": "code",
   "execution_count": 1,
   "id": "initial_id",
   "metadata": {
    "collapsed": true,
    "ExecuteTime": {
     "end_time": "2024-03-09T12:02:58.954075800Z",
     "start_time": "2024-03-09T12:02:51.950503500Z"
    }
   },
   "outputs": [],
   "source": [
    "import matplotlib.pyplot as plt\n",
    "import numpy\n",
    "import numpy as np\n",
    "import pandas as pd\n",
    "import os\n",
    "from glob import glob\n",
    "import seaborn as sns\n",
    "from PIL import Image\n",
    "\n",
    "# np.random.seed(42)\n",
    "from sklearn.metrics import confusion_matrix\n",
    "\n",
    "import keras\n",
    "import tensorflow as tf\n",
    "from keras.utils import to_categorical\n",
    "from keras.models import Sequential\n",
    "from keras.layers import Conv2D, MaxPooling2D, Dense, Flatten, Dropout\n",
    "from sklearn.model_selection import train_test_split\n",
    "from sklearn.utils import resample\n",
    "from scipy import stats\n",
    "from sklearn.preprocessing import LabelEncoder\n",
    "import cv2\n",
    "from keras.models import load_model\n",
    "from sklearn import svm\n",
    "from sklearn.svm import SVC"
   ]
  },
  {
   "cell_type": "code",
   "execution_count": 2,
   "outputs": [
    {
     "name": "stdout",
     "output_type": "stream",
     "text": [
      "3.0.5\n"
     ]
    }
   ],
   "source": [
    "print(keras.__version__)"
   ],
   "metadata": {
    "collapsed": false,
    "ExecuteTime": {
     "end_time": "2024-03-09T12:03:00.626820800Z",
     "start_time": "2024-03-09T12:03:00.621292400Z"
    }
   },
   "id": "9ae5a4abe1b7cffd"
  },
  {
   "cell_type": "code",
   "execution_count": 3,
   "outputs": [],
   "source": [
    "model = keras.saving.load_model(os.path.join('models', 'SequentialRelu50epochs1500resample64size.keras'))"
   ],
   "metadata": {
    "collapsed": false,
    "ExecuteTime": {
     "end_time": "2024-03-09T12:03:19.187964600Z",
     "start_time": "2024-03-09T12:03:18.997864800Z"
    }
   },
   "id": "df151b919db1b337"
  },
  {
   "cell_type": "code",
   "execution_count": 4,
   "outputs": [],
   "source": [
    "dataset = pd.read_csv('project_dataset/HAM10000_metadata.csv')\n",
    "SIZE = 64"
   ],
   "metadata": {
    "collapsed": false,
    "ExecuteTime": {
     "end_time": "2024-03-09T12:03:27.931510400Z",
     "start_time": "2024-03-09T12:03:27.889073700Z"
    }
   },
   "id": "fe42f5c729de8e68"
  },
  {
   "cell_type": "code",
   "execution_count": 5,
   "outputs": [
    {
     "data": {
      "text/plain": "        lesion_id      image_id    dx    dx_type   age     sex  \\\n8801  HAM_0004399  ISIC_0028905    nv      histo  20.0  female   \n2243  HAM_0004898  ISIC_0029480   mel      histo  55.0  female   \n7736  HAM_0006567  ISIC_0033439    nv      histo  30.0  female   \n5904  HAM_0000387  ISIC_0031826    nv  follow_up  25.0  female   \n2350  HAM_0000494  ISIC_0032745  vasc      histo  55.0    male   \n8077  HAM_0001136  ISIC_0031848    nv      histo  40.0    male   \n2590  HAM_0002565  ISIC_0032660   bcc      histo  75.0    male   \n5836  HAM_0002850  ISIC_0024638    nv  follow_up  45.0    male   \n3564  HAM_0005598  ISIC_0029023    nv  follow_up  45.0    male   \n7931  HAM_0000468  ISIC_0028591    nv      histo   5.0  female   \n\n         localization  label  \n8801             face      5  \n2243  lower extremity      4  \n7736             back      5  \n5904            trunk      5  \n2350  lower extremity      6  \n8077            chest      5  \n2590             back      1  \n5836  lower extremity      5  \n3564          abdomen      5  \n7931  lower extremity      5  ",
      "text/html": "<div>\n<style scoped>\n    .dataframe tbody tr th:only-of-type {\n        vertical-align: middle;\n    }\n\n    .dataframe tbody tr th {\n        vertical-align: top;\n    }\n\n    .dataframe thead th {\n        text-align: right;\n    }\n</style>\n<table border=\"1\" class=\"dataframe\">\n  <thead>\n    <tr style=\"text-align: right;\">\n      <th></th>\n      <th>lesion_id</th>\n      <th>image_id</th>\n      <th>dx</th>\n      <th>dx_type</th>\n      <th>age</th>\n      <th>sex</th>\n      <th>localization</th>\n      <th>label</th>\n    </tr>\n  </thead>\n  <tbody>\n    <tr>\n      <th>8801</th>\n      <td>HAM_0004399</td>\n      <td>ISIC_0028905</td>\n      <td>nv</td>\n      <td>histo</td>\n      <td>20.0</td>\n      <td>female</td>\n      <td>face</td>\n      <td>5</td>\n    </tr>\n    <tr>\n      <th>2243</th>\n      <td>HAM_0004898</td>\n      <td>ISIC_0029480</td>\n      <td>mel</td>\n      <td>histo</td>\n      <td>55.0</td>\n      <td>female</td>\n      <td>lower extremity</td>\n      <td>4</td>\n    </tr>\n    <tr>\n      <th>7736</th>\n      <td>HAM_0006567</td>\n      <td>ISIC_0033439</td>\n      <td>nv</td>\n      <td>histo</td>\n      <td>30.0</td>\n      <td>female</td>\n      <td>back</td>\n      <td>5</td>\n    </tr>\n    <tr>\n      <th>5904</th>\n      <td>HAM_0000387</td>\n      <td>ISIC_0031826</td>\n      <td>nv</td>\n      <td>follow_up</td>\n      <td>25.0</td>\n      <td>female</td>\n      <td>trunk</td>\n      <td>5</td>\n    </tr>\n    <tr>\n      <th>2350</th>\n      <td>HAM_0000494</td>\n      <td>ISIC_0032745</td>\n      <td>vasc</td>\n      <td>histo</td>\n      <td>55.0</td>\n      <td>male</td>\n      <td>lower extremity</td>\n      <td>6</td>\n    </tr>\n    <tr>\n      <th>8077</th>\n      <td>HAM_0001136</td>\n      <td>ISIC_0031848</td>\n      <td>nv</td>\n      <td>histo</td>\n      <td>40.0</td>\n      <td>male</td>\n      <td>chest</td>\n      <td>5</td>\n    </tr>\n    <tr>\n      <th>2590</th>\n      <td>HAM_0002565</td>\n      <td>ISIC_0032660</td>\n      <td>bcc</td>\n      <td>histo</td>\n      <td>75.0</td>\n      <td>male</td>\n      <td>back</td>\n      <td>1</td>\n    </tr>\n    <tr>\n      <th>5836</th>\n      <td>HAM_0002850</td>\n      <td>ISIC_0024638</td>\n      <td>nv</td>\n      <td>follow_up</td>\n      <td>45.0</td>\n      <td>male</td>\n      <td>lower extremity</td>\n      <td>5</td>\n    </tr>\n    <tr>\n      <th>3564</th>\n      <td>HAM_0005598</td>\n      <td>ISIC_0029023</td>\n      <td>nv</td>\n      <td>follow_up</td>\n      <td>45.0</td>\n      <td>male</td>\n      <td>abdomen</td>\n      <td>5</td>\n    </tr>\n    <tr>\n      <th>7931</th>\n      <td>HAM_0000468</td>\n      <td>ISIC_0028591</td>\n      <td>nv</td>\n      <td>histo</td>\n      <td>5.0</td>\n      <td>female</td>\n      <td>lower extremity</td>\n      <td>5</td>\n    </tr>\n  </tbody>\n</table>\n</div>"
     },
     "execution_count": 5,
     "metadata": {},
     "output_type": "execute_result"
    }
   ],
   "source": [
    "labEnc = LabelEncoder()\n",
    "labEnc.fit(dataset['dx'])\n",
    "LabelEncoder()\n",
    "\n",
    "dataset['label'] = labEnc.transform(dataset[\"dx\"])\n",
    "dataset.sample(10)"
   ],
   "metadata": {
    "collapsed": false,
    "ExecuteTime": {
     "end_time": "2024-03-09T12:03:37.419880200Z",
     "start_time": "2024-03-09T12:03:37.393810300Z"
    }
   },
   "id": "f44350f6fb361725"
  },
  {
   "cell_type": "code",
   "execution_count": 6,
   "outputs": [],
   "source": [
    "# Read images based on the image ID from the csv file\n",
    "image_path = {os.path.splitext(os.path.basename(x))[0]: x\n",
    "    for x in glob(os.path.join('all_images/', '*.jpg'))}"
   ],
   "metadata": {
    "collapsed": false,
    "ExecuteTime": {
     "end_time": "2024-03-09T12:04:02.909578400Z",
     "start_time": "2024-03-09T12:04:02.781798Z"
    }
   },
   "id": "8304dee6e2371b56"
  },
  {
   "cell_type": "code",
   "execution_count": 7,
   "outputs": [],
   "source": [
    "# Define the path and add as a new column\n",
    "dataset['path'] = dataset['image_id'].map(image_path.get)\n",
    "\n",
    "#use the path to read images, then convert them to 224,224 then add them to a new column called image\n",
    "dataset['image'] = dataset['path'].map(lambda x: np.asarray(Image.open(x).resize((SIZE,SIZE))))"
   ],
   "metadata": {
    "collapsed": false,
    "ExecuteTime": {
     "end_time": "2024-03-09T12:05:32.843651200Z",
     "start_time": "2024-03-09T12:04:32.453067100Z"
    }
   },
   "id": "64f3394b74252041"
  },
  {
   "cell_type": "code",
   "execution_count": 8,
   "outputs": [],
   "source": [
    "# Concert dataframe image attributes into a numpy array\n",
    "XF = np.asarray(dataset['image'].tolist())\n",
    "# Scale values between 0-1 by dividing by the highest possible value (255)\n",
    "XF = XF/255\n",
    "# assign label values (what we are trying to predict) to Y, label is used instead of dx because label is an integer and the computer won't understand dx\n",
    "YF = dataset['label']\n",
    "# Convert to categorical as this is multiclass classification\n",
    "YF_cat = to_categorical(YF,num_classes = 7)\n",
    "# make training and testing partitions\n",
    "# x_train, x_test, y_train, y_test = train_test_split(X, Y_cat, test_size=0.25, random_state=42)"
   ],
   "metadata": {
    "collapsed": false,
    "ExecuteTime": {
     "end_time": "2024-03-09T12:05:33.150888700Z",
     "start_time": "2024-03-09T12:05:32.846651200Z"
    }
   },
   "id": "c3a6b0d8da846d84"
  },
  {
   "cell_type": "code",
   "execution_count": 9,
   "outputs": [
    {
     "name": "stdout",
     "output_type": "stream",
     "text": [
      "\u001B[1m313/313\u001B[0m \u001B[32m━━━━━━━━━━━━━━━━━━━━\u001B[0m\u001B[37m\u001B[0m \u001B[1m23s\u001B[0m 72ms/step\n"
     ]
    }
   ],
   "source": [
    "yf_pred = model.predict(XF)"
   ],
   "metadata": {
    "collapsed": false,
    "ExecuteTime": {
     "end_time": "2024-03-09T12:05:56.256954700Z",
     "start_time": "2024-03-09T12:05:33.152755Z"
    }
   },
   "id": "1d9061968990508f"
  },
  {
   "cell_type": "code",
   "execution_count": 10,
   "outputs": [],
   "source": [
    "yf_pred_maxes = []\n",
    "for row in yf_pred:\n",
    "    yf_pred_maxes.append(row.argmax())"
   ],
   "metadata": {
    "collapsed": false,
    "ExecuteTime": {
     "end_time": "2024-03-09T12:05:56.277127800Z",
     "start_time": "2024-03-09T12:05:56.257955300Z"
    }
   },
   "id": "e1cfcfb0c2dd01b9"
  },
  {
   "cell_type": "code",
   "execution_count": 11,
   "outputs": [],
   "source": [
    "yf_maxes = []\n",
    "for row in YF_cat:\n",
    "    yf_maxes.append(row.argmax())"
   ],
   "metadata": {
    "collapsed": false,
    "ExecuteTime": {
     "end_time": "2024-03-09T12:05:56.277127800Z",
     "start_time": "2024-03-09T12:05:56.265278500Z"
    }
   },
   "id": "f0dd7e8850ca5450"
  },
  {
   "cell_type": "code",
   "execution_count": 12,
   "outputs": [
    {
     "name": "stdout",
     "output_type": "stream",
     "text": [
      "              precision    recall  f1-score   support\n",
      "\n",
      "           0       0.77      0.86      0.81       327\n",
      "           1       0.66      0.88      0.75       514\n",
      "           2       0.49      0.79      0.60      1099\n",
      "           3       0.56      0.99      0.72       115\n",
      "           4       0.40      0.79      0.53      1113\n",
      "           5       0.97      0.66      0.79      6705\n",
      "           6       0.76      0.99      0.86       142\n",
      "\n",
      "    accuracy                           0.72     10015\n",
      "   macro avg       0.66      0.85      0.72     10015\n",
      "weighted avg       0.83      0.72      0.74     10015\n"
     ]
    }
   ],
   "source": [
    "from sklearn.metrics import classification_report\n",
    "\n",
    "print(classification_report(yf_maxes,yf_pred_maxes))"
   ],
   "metadata": {
    "collapsed": false,
    "ExecuteTime": {
     "end_time": "2024-03-09T12:05:56.308617400Z",
     "start_time": "2024-03-09T12:05:56.273113400Z"
    }
   },
   "id": "d5dab2e01e563308"
  },
  {
   "cell_type": "code",
   "execution_count": 13,
   "outputs": [],
   "source": [
    "cm = confusion_matrix(yf_maxes, yf_pred_maxes)"
   ],
   "metadata": {
    "collapsed": false,
    "ExecuteTime": {
     "end_time": "2024-03-09T12:05:56.339619100Z",
     "start_time": "2024-03-09T12:05:56.288696300Z"
    }
   },
   "id": "6fe474f39ed893f5"
  },
  {
   "cell_type": "code",
   "execution_count": 14,
   "outputs": [
    {
     "data": {
      "text/plain": "<Figure size 640x480 with 2 Axes>",
      "image/png": "[encoded data removed]"
     },
     "metadata": {},
     "output_type": "display_data"
    }
   ],
   "source": [
    "from sklearn import metrics\n",
    "labels = np.unique(YF)\n",
    "\n",
    "cm_display = metrics.ConfusionMatrixDisplay(confusion_matrix = cm, display_labels = labels)\n",
    "\n",
    "cm_display.plot(cmap='Blues')\n",
    "plt.show()\n",
    "#https://www.w3schools.com/python/python_ml_confusion_matrix.asp"
   ],
   "metadata": {
    "collapsed": false,
    "ExecuteTime": {
     "end_time": "2024-03-09T12:05:56.460459700Z",
     "start_time": "2024-03-09T12:05:56.295617900Z"
    }
   },
   "id": "bab7715deb8bc4e8"
  },
  {
   "cell_type": "code",
   "execution_count": null,
   "outputs": [],
   "source": [],
   "metadata": {
    "collapsed": false
   },
   "id": "4152bfad21c4fc00"
  }
 ],
 "metadata": {
  "kernelspec": {
   "display_name": "Python 3",
   "language": "python",
   "name": "python3"
  },
  "language_info": {
   "codemirror_mode": {
    "name": "ipython",
    "version": 2
   },
   "file_extension": ".py",
   "mimetype": "text/x-python",
   "name": "python",
   "nbconvert_exporter": "python",
   "pygments_lexer": "ipython2",
   "version": "2.7.6"
  }
 },
 "nbformat": 4,
 "nbformat_minor": 5
}
